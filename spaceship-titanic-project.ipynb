{
 "cells": [
  {
   "cell_type": "markdown",
   "id": "4bb710d9",
   "metadata": {
    "papermill": {
     "duration": 0.033285,
     "end_time": "2022-12-19T13:48:20.196086",
     "exception": false,
     "start_time": "2022-12-19T13:48:20.162801",
     "status": "completed"
    },
    "tags": []
   },
   "source": [
    "# Introduction ➡️\n",
    "\n",
    "ในปี 2912 มียานขนส่งผู้โดยสาร ชื่อ Spaceship Titanic เดินทางเมื่อเดือนก่อน ด้วยจำนวนผู้โดยสารเกือบ 13,000 คน\n",
    "โดยจะเดินทางจาก ดาวเคราะห์ในระบบสุริยะไปยังดาวเคราะห์นอกระบบที่อยู่อาศัยได้ 3 ดวง\n",
    "แต่โชคไม่ดีที่ยานขนส่งผู้โดยสารลำนี้ไปชนเข้ากับความผิดปกติของห้วงเวลาที่ซ่อนอยู่ในกลุ่มเมฆฝุ่น\n",
    "ทำให้ยานลำนี้พบกับชะตากรรมเดียวกับเรือที่มีชื่อเดียวกันเมื่อ 1000 ปีก่อน\n",
    "ถึงแม้ว่าสภาพยานจะยังเหมือนเดิม แต่ผู้โดยสารเกือบครึ่งถูกย้ายไปอยู่ในมิติอื่น\n",
    "\n",
    "#### **โดยโจทย์ของเราคือ** ระบุว่า ผู้โดยสารท่านใดที่ถูกย้ายไปมิติอื่น โดยตอบเป็น **ใช่ (True)** หรือ **ไม่ (False)**\n"
   ]
  },
  {
   "cell_type": "code",
   "execution_count": 1,
   "id": "1b51e88f",
   "metadata": {
    "_cell_guid": "b1076dfc-b9ad-4769-8c92-a6c4dae69d19",
    "_uuid": "8f2839f25d086af736a60e9eeb907d3b93b6e0e5",
    "execution": {
     "iopub.execute_input": "2022-12-19T13:48:20.256868Z",
     "iopub.status.busy": "2022-12-19T13:48:20.255398Z",
     "iopub.status.idle": "2022-12-19T13:48:20.271015Z",
     "shell.execute_reply": "2022-12-19T13:48:20.269615Z"
    },
    "papermill": {
     "duration": 0.049237,
     "end_time": "2022-12-19T13:48:20.274376",
     "exception": false,
     "start_time": "2022-12-19T13:48:20.225139",
     "status": "completed"
    },
    "tags": []
   },
   "outputs": [
    {
     "name": "stdout",
     "output_type": "stream",
     "text": [
      "/kaggle/input/spaceship-titanic/sample_submission.csv\n",
      "/kaggle/input/spaceship-titanic/train.csv\n",
      "/kaggle/input/spaceship-titanic/test.csv\n"
     ]
    }
   ],
   "source": [
    "# This Python 3 environment comes with many helpful analytics libraries installed\n",
    "# It is defined by the kaggle/python Docker image: https://github.com/kaggle/docker-python\n",
    "# For example, here's several helpful packages to load\n",
    "\n",
    "# Input data files are available in the read-only \"../input/\" directory\n",
    "# For example, running this (by clicking run or pressing Shift+Enter) will list all files under the input directory\n",
    "\n",
    "import os\n",
    "for dirname, _, filenames in os.walk('/kaggle/input'):\n",
    "    for filename in filenames:\n",
    "        print(os.path.join(dirname, filename))\n",
    "\n",
    "# You can write up to 20GB to the current directory (/kaggle/working/) that gets preserved as output when you create a version using \"Save & Run All\" \n",
    "# You can also write temporary files to /kaggle/temp/, but they won't be saved outside of the current session"
   ]
  },
  {
   "cell_type": "markdown",
   "id": "69934671",
   "metadata": {
    "papermill": {
     "duration": 0.027287,
     "end_time": "2022-12-19T13:48:20.330345",
     "exception": false,
     "start_time": "2022-12-19T13:48:20.303058",
     "status": "completed"
    },
    "tags": []
   },
   "source": [
    "#### เราจะทำการนำเข้าไลบรารี่ที่จำเป็น โดยเริ่มจาก\n",
    "1.      `numpy` เป็นไลบรารี่สำหรับการคำนวณทางคณิตศาสตร์ใน python\n",
    "2.      `pandas` เพื่อใช้ในการโหลดข้อมูลประเภท csv ให้ออกมาในรูปแบบ table เราเรียกสิ่งนี้ว่าการจัด data frame\n",
    "3.      `seaborn` ในการใช้งานไลบรารี่ matplotlib ในการพล็อตกราฟเพื่อให้ทุกคนเห็นภาพการแจกแจงข้อมูล\n",
    "4.      `matplotlib` เพื่อใช้ในการพล็อตกราฟออกมา"
   ]
  },
  {
   "cell_type": "code",
   "execution_count": 2,
   "id": "0d61b084",
   "metadata": {
    "execution": {
     "iopub.execute_input": "2022-12-19T13:48:20.390187Z",
     "iopub.status.busy": "2022-12-19T13:48:20.389231Z",
     "iopub.status.idle": "2022-12-19T13:48:21.635930Z",
     "shell.execute_reply": "2022-12-19T13:48:21.634405Z"
    },
    "papermill": {
     "duration": 1.280526,
     "end_time": "2022-12-19T13:48:21.638991",
     "exception": false,
     "start_time": "2022-12-19T13:48:20.358465",
     "status": "completed"
    },
    "tags": []
   },
   "outputs": [],
   "source": [
    "import numpy as np\n",
    "import pandas as pd\n",
    "import matplotlib.pyplot as plt\n",
    "import seaborn as sns\n",
    "%matplotlib inline"
   ]
  },
  {
   "cell_type": "markdown",
   "id": "b4757770",
   "metadata": {
    "papermill": {
     "duration": 0.027729,
     "end_time": "2022-12-19T13:48:21.695640",
     "exception": false,
     "start_time": "2022-12-19T13:48:21.667911",
     "status": "completed"
    },
    "tags": []
   },
   "source": [
    "# Import Data 📥\n",
    "\n",
    "Import ข้อมูลที่ Spaceship Titanic ให้เรามา โดยมี 2 ส่วนคือ\n",
    "train data คือส่วนที่ใช้สำหรับสำหรับการสร้างโมเดล\n",
    "test data คือส่วนที่ใช้สำหรับการทดสอบ\n"
   ]
  },
  {
   "cell_type": "code",
   "execution_count": 3,
   "id": "ca146cbe",
   "metadata": {
    "execution": {
     "iopub.execute_input": "2022-12-19T13:48:21.756572Z",
     "iopub.status.busy": "2022-12-19T13:48:21.755636Z",
     "iopub.status.idle": "2022-12-19T13:48:21.845645Z",
     "shell.execute_reply": "2022-12-19T13:48:21.844601Z"
    },
    "papermill": {
     "duration": 0.123498,
     "end_time": "2022-12-19T13:48:21.848651",
     "exception": false,
     "start_time": "2022-12-19T13:48:21.725153",
     "status": "completed"
    },
    "tags": []
   },
   "outputs": [],
   "source": [
    "train=pd.read_csv('/kaggle/input/spaceship-titanic/train.csv')\n",
    "test=pd.read_csv('/kaggle/input/spaceship-titanic/test.csv')"
   ]
  },
  {
   "cell_type": "markdown",
   "id": "335dd272",
   "metadata": {
    "papermill": {
     "duration": 0.028743,
     "end_time": "2022-12-19T13:48:21.907308",
     "exception": false,
     "start_time": "2022-12-19T13:48:21.878565",
     "status": "completed"
    },
    "tags": []
   },
   "source": [
    "**แสดงจำนวน Row และ Feature ของ Train และ Test**"
   ]
  },
  {
   "cell_type": "code",
   "execution_count": 4,
   "id": "aace3aec",
   "metadata": {
    "execution": {
     "iopub.execute_input": "2022-12-19T13:48:21.970309Z",
     "iopub.status.busy": "2022-12-19T13:48:21.969511Z",
     "iopub.status.idle": "2022-12-19T13:48:21.976115Z",
     "shell.execute_reply": "2022-12-19T13:48:21.974607Z"
    },
    "papermill": {
     "duration": 0.041931,
     "end_time": "2022-12-19T13:48:21.979312",
     "exception": false,
     "start_time": "2022-12-19T13:48:21.937381",
     "status": "completed"
    },
    "tags": []
   },
   "outputs": [
    {
     "name": "stdout",
     "output_type": "stream",
     "text": [
      "Train size : (8693, 14)\n",
      "Test size : (4277, 13)\n"
     ]
    }
   ],
   "source": [
    "print(\"Train size :\",train.shape)\n",
    "print(\"Test size :\",test.shape)"
   ]
  },
  {
   "cell_type": "markdown",
   "id": "d9b39491",
   "metadata": {
    "papermill": {
     "duration": 0.028485,
     "end_time": "2022-12-19T13:48:22.036158",
     "exception": false,
     "start_time": "2022-12-19T13:48:22.007673",
     "status": "completed"
    },
    "tags": []
   },
   "source": [
    "**ทำการเพื่อแสดงประเภทของข้อมูลใน Feature ทั้งหมด**"
   ]
  },
  {
   "cell_type": "code",
   "execution_count": 5,
   "id": "3f284966",
   "metadata": {
    "execution": {
     "iopub.execute_input": "2022-12-19T13:48:22.096110Z",
     "iopub.status.busy": "2022-12-19T13:48:22.095526Z",
     "iopub.status.idle": "2022-12-19T13:48:22.130972Z",
     "shell.execute_reply": "2022-12-19T13:48:22.129319Z"
    },
    "papermill": {
     "duration": 0.069379,
     "end_time": "2022-12-19T13:48:22.134317",
     "exception": false,
     "start_time": "2022-12-19T13:48:22.064938",
     "status": "completed"
    },
    "tags": []
   },
   "outputs": [
    {
     "name": "stdout",
     "output_type": "stream",
     "text": [
      "<class 'pandas.core.frame.DataFrame'>\n",
      "RangeIndex: 8693 entries, 0 to 8692\n",
      "Data columns (total 14 columns):\n",
      " #   Column        Non-Null Count  Dtype  \n",
      "---  ------        --------------  -----  \n",
      " 0   PassengerId   8693 non-null   object \n",
      " 1   HomePlanet    8492 non-null   object \n",
      " 2   CryoSleep     8476 non-null   object \n",
      " 3   Cabin         8494 non-null   object \n",
      " 4   Destination   8511 non-null   object \n",
      " 5   Age           8514 non-null   float64\n",
      " 6   VIP           8490 non-null   object \n",
      " 7   RoomService   8512 non-null   float64\n",
      " 8   FoodCourt     8510 non-null   float64\n",
      " 9   ShoppingMall  8485 non-null   float64\n",
      " 10  Spa           8510 non-null   float64\n",
      " 11  VRDeck        8505 non-null   float64\n",
      " 12  Name          8493 non-null   object \n",
      " 13  Transported   8693 non-null   bool   \n",
      "dtypes: bool(1), float64(6), object(7)\n",
      "memory usage: 891.5+ KB\n"
     ]
    }
   ],
   "source": [
    "train.info()"
   ]
  },
  {
   "cell_type": "markdown",
   "id": "16d0cb5e",
   "metadata": {
    "papermill": {
     "duration": 0.028643,
     "end_time": "2022-12-19T13:48:22.191631",
     "exception": false,
     "start_time": "2022-12-19T13:48:22.162988",
     "status": "completed"
    },
    "tags": []
   },
   "source": [
    "Feature แต่ละตัวมีความหมายดังนี้\n",
    "- `PassengerId` รหัสเฉพาะสำหรับผู้โดยสารแต่ละคน ซึ่งแต่ละรหัสจะอยู่ในแบบฟอร์ม gggg_pp เหมือนกันทั้งหมด  ในส่วนของ gggg จะเป็นการระบุกลุ่มที่ผู้โดยสารที่เดินทางโดย Spaceship และในส่วนของ pp จะเป็นการระบุที่นั่งใน Spaceship ซึ่งคนในกลุ่มส่วนใหญ่จะมาทั้งครอบครัว แต่ไม่ก็ไม่ใช่ทั้งหมด\n",
    "- `HomePlanet` ดาวเคราะห์ต้นทางที่ผู้โดยสารเคยอาศัยอยู่\n",
    "- `CryoSleep` ผู้โดยสารที่อยู่ในภาวะ CryoSleep\n",
    "- `Cabin` หมายเลขห้องโดยสารที่ผู้โดยสารเข้าพัก โดยแยกเป็น deck, num และ side\n",
    "- `Destination` ดาวเคราะห์ที่ผู้โดยสารต้องการจะเดินทางไป\n",
    "- `Age` อายุของผู้โดยสาร\n",
    "- `VIP` ผู้โดยสารที่ได้ชำระค่าบริการพิเศษวีไอพีระหว่างการเดินทาง\n",
    "- `RoomService` ค่าใช้จ่ายในส่วนของ RoomService\n",
    "- `FoodCourt` ค่าใช้จ่ายในส่วนของ FoodCourt\n",
    "- `ShoppingMall` ค่าใช้จ่ายในส่วนของ ShoppingMall\n",
    "- `Spa` ค่าใช้จ่ายในส่วนของ Spa\n",
    "- `VRDeck` ค่าใช้จ่ายในส่วนของ VRDeck\n",
    "- `Name` ชื่อและนามสกุลของผู้โดยสาร\n",
    "- `Transported` เป้าหมายที่พยายามคาดการณ์ว่าผู้โดยสารจะถูกส่งไปยังมิติอื่นหรือไม่ "
   ]
  },
  {
   "cell_type": "markdown",
   "id": "b86e8513",
   "metadata": {
    "papermill": {
     "duration": 0.027786,
     "end_time": "2022-12-19T13:48:22.247783",
     "exception": false,
     "start_time": "2022-12-19T13:48:22.219997",
     "status": "completed"
    },
    "tags": []
   },
   "source": [
    "# Exploratory Data Analysis (EDA) 🔍\n",
    "\n",
    "คือการทำการเข้าใจข้อมูลก่อนที่จะทำการปรับค่าต่างๆ ใน dataset\n",
    "โดยหลักๆ ในโปรเจคนี้เราจะทำ EDA เพื่อจะหาคำตอบเหล่านี้\n",
    "1. ข้อมูลที่เราได้มาเป็นข้อมูลชนิดไหน เช่น format ของไฟล์, ขนาดของข้อมูล, จำนวน columns, etc.\n",
    "2. ข้อมูลนี้ซับซ้อนแค่ไหน เช่น ไฟล์แต่ละไฟล์มีความเกี่ยวข้องกันอย่างไร, ข้อมูลมีความซ้ำซ้อนกันไหม\n",
    "3. ข้อมูลที่ได้มาเพียงพอต่อเป้าหมายของเราหรือไม่ ในที่นี้คือเพียงพอต่อการนำไปทำโมเดลหรือไม่\n",
    "4. ค่าในข้อมูลมีการขาดหายไปหรือไม่ ถ้าข้อมูลขาดหายไปเราจำเป็นต้องเติมข้อมูลในส่วนที่ขาดหายไปหรือไม่\n"
   ]
  },
  {
   "cell_type": "markdown",
   "id": "c6e3d372",
   "metadata": {
    "papermill": {
     "duration": 0.028911,
     "end_time": "2022-12-19T13:48:22.305921",
     "exception": false,
     "start_time": "2022-12-19T13:48:22.277010",
     "status": "completed"
    },
    "tags": []
   },
   "source": [
    "#### อธิบายข้อมูลโดยสังเขปของ Train"
   ]
  },
  {
   "cell_type": "code",
   "execution_count": 6,
   "id": "0cdf340b",
   "metadata": {
    "execution": {
     "iopub.execute_input": "2022-12-19T13:48:22.365568Z",
     "iopub.status.busy": "2022-12-19T13:48:22.365064Z",
     "iopub.status.idle": "2022-12-19T13:48:22.411456Z",
     "shell.execute_reply": "2022-12-19T13:48:22.410083Z"
    },
    "papermill": {
     "duration": 0.08036,
     "end_time": "2022-12-19T13:48:22.414874",
     "exception": false,
     "start_time": "2022-12-19T13:48:22.334514",
     "status": "completed"
    },
    "tags": []
   },
   "outputs": [
    {
     "data": {
      "text/html": [
       "<div>\n",
       "<style scoped>\n",
       "    .dataframe tbody tr th:only-of-type {\n",
       "        vertical-align: middle;\n",
       "    }\n",
       "\n",
       "    .dataframe tbody tr th {\n",
       "        vertical-align: top;\n",
       "    }\n",
       "\n",
       "    .dataframe thead th {\n",
       "        text-align: right;\n",
       "    }\n",
       "</style>\n",
       "<table border=\"1\" class=\"dataframe\">\n",
       "  <thead>\n",
       "    <tr style=\"text-align: right;\">\n",
       "      <th></th>\n",
       "      <th>Age</th>\n",
       "      <th>RoomService</th>\n",
       "      <th>FoodCourt</th>\n",
       "      <th>ShoppingMall</th>\n",
       "      <th>Spa</th>\n",
       "      <th>VRDeck</th>\n",
       "    </tr>\n",
       "  </thead>\n",
       "  <tbody>\n",
       "    <tr>\n",
       "      <th>count</th>\n",
       "      <td>8514.000000</td>\n",
       "      <td>8512.000000</td>\n",
       "      <td>8510.000000</td>\n",
       "      <td>8485.000000</td>\n",
       "      <td>8510.000000</td>\n",
       "      <td>8505.000000</td>\n",
       "    </tr>\n",
       "    <tr>\n",
       "      <th>mean</th>\n",
       "      <td>28.827930</td>\n",
       "      <td>224.687617</td>\n",
       "      <td>458.077203</td>\n",
       "      <td>173.729169</td>\n",
       "      <td>311.138778</td>\n",
       "      <td>304.854791</td>\n",
       "    </tr>\n",
       "    <tr>\n",
       "      <th>std</th>\n",
       "      <td>14.489021</td>\n",
       "      <td>666.717663</td>\n",
       "      <td>1611.489240</td>\n",
       "      <td>604.696458</td>\n",
       "      <td>1136.705535</td>\n",
       "      <td>1145.717189</td>\n",
       "    </tr>\n",
       "    <tr>\n",
       "      <th>min</th>\n",
       "      <td>0.000000</td>\n",
       "      <td>0.000000</td>\n",
       "      <td>0.000000</td>\n",
       "      <td>0.000000</td>\n",
       "      <td>0.000000</td>\n",
       "      <td>0.000000</td>\n",
       "    </tr>\n",
       "    <tr>\n",
       "      <th>25%</th>\n",
       "      <td>19.000000</td>\n",
       "      <td>0.000000</td>\n",
       "      <td>0.000000</td>\n",
       "      <td>0.000000</td>\n",
       "      <td>0.000000</td>\n",
       "      <td>0.000000</td>\n",
       "    </tr>\n",
       "    <tr>\n",
       "      <th>50%</th>\n",
       "      <td>27.000000</td>\n",
       "      <td>0.000000</td>\n",
       "      <td>0.000000</td>\n",
       "      <td>0.000000</td>\n",
       "      <td>0.000000</td>\n",
       "      <td>0.000000</td>\n",
       "    </tr>\n",
       "    <tr>\n",
       "      <th>75%</th>\n",
       "      <td>38.000000</td>\n",
       "      <td>47.000000</td>\n",
       "      <td>76.000000</td>\n",
       "      <td>27.000000</td>\n",
       "      <td>59.000000</td>\n",
       "      <td>46.000000</td>\n",
       "    </tr>\n",
       "    <tr>\n",
       "      <th>max</th>\n",
       "      <td>79.000000</td>\n",
       "      <td>14327.000000</td>\n",
       "      <td>29813.000000</td>\n",
       "      <td>23492.000000</td>\n",
       "      <td>22408.000000</td>\n",
       "      <td>24133.000000</td>\n",
       "    </tr>\n",
       "  </tbody>\n",
       "</table>\n",
       "</div>"
      ],
      "text/plain": [
       "               Age   RoomService     FoodCourt  ShoppingMall           Spa  \\\n",
       "count  8514.000000   8512.000000   8510.000000   8485.000000   8510.000000   \n",
       "mean     28.827930    224.687617    458.077203    173.729169    311.138778   \n",
       "std      14.489021    666.717663   1611.489240    604.696458   1136.705535   \n",
       "min       0.000000      0.000000      0.000000      0.000000      0.000000   \n",
       "25%      19.000000      0.000000      0.000000      0.000000      0.000000   \n",
       "50%      27.000000      0.000000      0.000000      0.000000      0.000000   \n",
       "75%      38.000000     47.000000     76.000000     27.000000     59.000000   \n",
       "max      79.000000  14327.000000  29813.000000  23492.000000  22408.000000   \n",
       "\n",
       "             VRDeck  \n",
       "count   8505.000000  \n",
       "mean     304.854791  \n",
       "std     1145.717189  \n",
       "min        0.000000  \n",
       "25%        0.000000  \n",
       "50%        0.000000  \n",
       "75%       46.000000  \n",
       "max    24133.000000  "
      ]
     },
     "execution_count": 6,
     "metadata": {},
     "output_type": "execute_result"
    }
   ],
   "source": [
    "train.describe()"
   ]
  },
  {
   "cell_type": "markdown",
   "id": "9cff3dfb",
   "metadata": {
    "papermill": {
     "duration": 0.029476,
     "end_time": "2022-12-19T13:48:22.474027",
     "exception": false,
     "start_time": "2022-12-19T13:48:22.444551",
     "status": "completed"
    },
    "tags": []
   },
   "source": [
    "โดยมีการแสดงค่าทางสถิติ คือ\n",
    "- `count` = จำนวน\n",
    "- `mean` = ค่าเฉลี่ย\n",
    "- `std` = ค่าเบี่ยงเบนมาตรฐาน\n",
    "- `min` = จำนวนที่น้อยที่สุด\n",
    "- `25%` = ค่าเปอร์เซ็นไทล์ที่ 25\n",
    "- `50%` = ค่าเปอร์เซ็นไทล์ที่ 50\n",
    "- `75%` = ค่าเปอร์เซ็นไทล์ที่ 75\n",
    "- `max` = ค่าที่มากที่สุด"
   ]
  },
  {
   "cell_type": "code",
   "execution_count": 7,
   "id": "53d903e1",
   "metadata": {
    "execution": {
     "iopub.execute_input": "2022-12-19T13:48:22.535684Z",
     "iopub.status.busy": "2022-12-19T13:48:22.535092Z",
     "iopub.status.idle": "2022-12-19T13:48:22.559109Z",
     "shell.execute_reply": "2022-12-19T13:48:22.557808Z"
    },
    "papermill": {
     "duration": 0.058194,
     "end_time": "2022-12-19T13:48:22.561747",
     "exception": false,
     "start_time": "2022-12-19T13:48:22.503553",
     "status": "completed"
    },
    "tags": []
   },
   "outputs": [
    {
     "data": {
      "text/html": [
       "<div>\n",
       "<style scoped>\n",
       "    .dataframe tbody tr th:only-of-type {\n",
       "        vertical-align: middle;\n",
       "    }\n",
       "\n",
       "    .dataframe tbody tr th {\n",
       "        vertical-align: top;\n",
       "    }\n",
       "\n",
       "    .dataframe thead th {\n",
       "        text-align: right;\n",
       "    }\n",
       "</style>\n",
       "<table border=\"1\" class=\"dataframe\">\n",
       "  <thead>\n",
       "    <tr style=\"text-align: right;\">\n",
       "      <th></th>\n",
       "      <th>PassengerId</th>\n",
       "      <th>HomePlanet</th>\n",
       "      <th>CryoSleep</th>\n",
       "      <th>Cabin</th>\n",
       "      <th>Destination</th>\n",
       "      <th>Age</th>\n",
       "      <th>VIP</th>\n",
       "      <th>RoomService</th>\n",
       "      <th>FoodCourt</th>\n",
       "      <th>ShoppingMall</th>\n",
       "      <th>Spa</th>\n",
       "      <th>VRDeck</th>\n",
       "      <th>Name</th>\n",
       "      <th>Transported</th>\n",
       "    </tr>\n",
       "  </thead>\n",
       "  <tbody>\n",
       "    <tr>\n",
       "      <th>0</th>\n",
       "      <td>0001_01</td>\n",
       "      <td>Europa</td>\n",
       "      <td>False</td>\n",
       "      <td>B/0/P</td>\n",
       "      <td>TRAPPIST-1e</td>\n",
       "      <td>39.0</td>\n",
       "      <td>False</td>\n",
       "      <td>0.0</td>\n",
       "      <td>0.0</td>\n",
       "      <td>0.0</td>\n",
       "      <td>0.0</td>\n",
       "      <td>0.0</td>\n",
       "      <td>Maham Ofracculy</td>\n",
       "      <td>False</td>\n",
       "    </tr>\n",
       "    <tr>\n",
       "      <th>1</th>\n",
       "      <td>0002_01</td>\n",
       "      <td>Earth</td>\n",
       "      <td>False</td>\n",
       "      <td>F/0/S</td>\n",
       "      <td>TRAPPIST-1e</td>\n",
       "      <td>24.0</td>\n",
       "      <td>False</td>\n",
       "      <td>109.0</td>\n",
       "      <td>9.0</td>\n",
       "      <td>25.0</td>\n",
       "      <td>549.0</td>\n",
       "      <td>44.0</td>\n",
       "      <td>Juanna Vines</td>\n",
       "      <td>True</td>\n",
       "    </tr>\n",
       "    <tr>\n",
       "      <th>2</th>\n",
       "      <td>0003_01</td>\n",
       "      <td>Europa</td>\n",
       "      <td>False</td>\n",
       "      <td>A/0/S</td>\n",
       "      <td>TRAPPIST-1e</td>\n",
       "      <td>58.0</td>\n",
       "      <td>True</td>\n",
       "      <td>43.0</td>\n",
       "      <td>3576.0</td>\n",
       "      <td>0.0</td>\n",
       "      <td>6715.0</td>\n",
       "      <td>49.0</td>\n",
       "      <td>Altark Susent</td>\n",
       "      <td>False</td>\n",
       "    </tr>\n",
       "    <tr>\n",
       "      <th>3</th>\n",
       "      <td>0003_02</td>\n",
       "      <td>Europa</td>\n",
       "      <td>False</td>\n",
       "      <td>A/0/S</td>\n",
       "      <td>TRAPPIST-1e</td>\n",
       "      <td>33.0</td>\n",
       "      <td>False</td>\n",
       "      <td>0.0</td>\n",
       "      <td>1283.0</td>\n",
       "      <td>371.0</td>\n",
       "      <td>3329.0</td>\n",
       "      <td>193.0</td>\n",
       "      <td>Solam Susent</td>\n",
       "      <td>False</td>\n",
       "    </tr>\n",
       "    <tr>\n",
       "      <th>4</th>\n",
       "      <td>0004_01</td>\n",
       "      <td>Earth</td>\n",
       "      <td>False</td>\n",
       "      <td>F/1/S</td>\n",
       "      <td>TRAPPIST-1e</td>\n",
       "      <td>16.0</td>\n",
       "      <td>False</td>\n",
       "      <td>303.0</td>\n",
       "      <td>70.0</td>\n",
       "      <td>151.0</td>\n",
       "      <td>565.0</td>\n",
       "      <td>2.0</td>\n",
       "      <td>Willy Santantines</td>\n",
       "      <td>True</td>\n",
       "    </tr>\n",
       "  </tbody>\n",
       "</table>\n",
       "</div>"
      ],
      "text/plain": [
       "  PassengerId HomePlanet CryoSleep  Cabin  Destination   Age    VIP  \\\n",
       "0     0001_01     Europa     False  B/0/P  TRAPPIST-1e  39.0  False   \n",
       "1     0002_01      Earth     False  F/0/S  TRAPPIST-1e  24.0  False   \n",
       "2     0003_01     Europa     False  A/0/S  TRAPPIST-1e  58.0   True   \n",
       "3     0003_02     Europa     False  A/0/S  TRAPPIST-1e  33.0  False   \n",
       "4     0004_01      Earth     False  F/1/S  TRAPPIST-1e  16.0  False   \n",
       "\n",
       "   RoomService  FoodCourt  ShoppingMall     Spa  VRDeck               Name  \\\n",
       "0          0.0        0.0           0.0     0.0     0.0    Maham Ofracculy   \n",
       "1        109.0        9.0          25.0   549.0    44.0       Juanna Vines   \n",
       "2         43.0     3576.0           0.0  6715.0    49.0      Altark Susent   \n",
       "3          0.0     1283.0         371.0  3329.0   193.0       Solam Susent   \n",
       "4        303.0       70.0         151.0   565.0     2.0  Willy Santantines   \n",
       "\n",
       "   Transported  \n",
       "0        False  \n",
       "1         True  \n",
       "2        False  \n",
       "3        False  \n",
       "4         True  "
      ]
     },
     "execution_count": 7,
     "metadata": {},
     "output_type": "execute_result"
    }
   ],
   "source": [
    "train.head(5)"
   ]
  },
  {
   "cell_type": "markdown",
   "id": "c40d5728",
   "metadata": {
    "papermill": {
     "duration": 0.030095,
     "end_time": "2022-12-19T13:48:22.620846",
     "exception": false,
     "start_time": "2022-12-19T13:48:22.590751",
     "status": "completed"
    },
    "tags": []
   },
   "source": [
    "แสดงข้อมูลที่หายไปของ Training Set"
   ]
  },
  {
   "cell_type": "code",
   "execution_count": 8,
   "id": "dab99ccd",
   "metadata": {
    "execution": {
     "iopub.execute_input": "2022-12-19T13:48:22.681811Z",
     "iopub.status.busy": "2022-12-19T13:48:22.680815Z",
     "iopub.status.idle": "2022-12-19T13:48:22.695898Z",
     "shell.execute_reply": "2022-12-19T13:48:22.694311Z"
    },
    "papermill": {
     "duration": 0.049559,
     "end_time": "2022-12-19T13:48:22.699255",
     "exception": false,
     "start_time": "2022-12-19T13:48:22.649696",
     "status": "completed"
    },
    "tags": []
   },
   "outputs": [
    {
     "name": "stdout",
     "output_type": "stream",
     "text": [
      "Missing Values Training Set\n"
     ]
    },
    {
     "data": {
      "text/plain": [
       "PassengerId       0\n",
       "HomePlanet      201\n",
       "CryoSleep       217\n",
       "Cabin           199\n",
       "Destination     182\n",
       "Age             179\n",
       "VIP             203\n",
       "RoomService     181\n",
       "FoodCourt       183\n",
       "ShoppingMall    208\n",
       "Spa             183\n",
       "VRDeck          188\n",
       "Name            200\n",
       "Transported       0\n",
       "dtype: int64"
      ]
     },
     "execution_count": 8,
     "metadata": {},
     "output_type": "execute_result"
    }
   ],
   "source": [
    "print(\"Missing Values Training Set\")\n",
    "train.isna().sum()"
   ]
  },
  {
   "cell_type": "markdown",
   "id": "05d6824d",
   "metadata": {
    "papermill": {
     "duration": 0.030516,
     "end_time": "2022-12-19T13:48:22.759896",
     "exception": false,
     "start_time": "2022-12-19T13:48:22.729380",
     "status": "completed"
    },
    "tags": []
   },
   "source": [
    "สร้าง Pie Chart เพื่อดูปริมาณคนที่ถูกย้ายไปมิติอื่น (`Transported`)"
   ]
  },
  {
   "cell_type": "code",
   "execution_count": 9,
   "id": "b3523aa3",
   "metadata": {
    "execution": {
     "iopub.execute_input": "2022-12-19T13:48:22.821107Z",
     "iopub.status.busy": "2022-12-19T13:48:22.820578Z",
     "iopub.status.idle": "2022-12-19T13:48:23.021447Z",
     "shell.execute_reply": "2022-12-19T13:48:23.019583Z"
    },
    "papermill": {
     "duration": 0.235317,
     "end_time": "2022-12-19T13:48:23.024523",
     "exception": false,
     "start_time": "2022-12-19T13:48:22.789206",
     "status": "completed"
    },
    "tags": []
   },
   "outputs": [
    {
     "data": {
      "text/plain": [
       "<AxesSubplot:ylabel='Transported'>"
      ]
     },
     "execution_count": 9,
     "metadata": {},
     "output_type": "execute_result"
    },
    {
     "data": {
      "image/png": "[encoded data removed]",
      "text/plain": [
       "<Figure size 432x432 with 1 Axes>"
      ]
     },
     "metadata": {},
     "output_type": "display_data"
    }
   ],
   "source": [
    "f,ax=plt.subplots(figsize=(6,6))\n",
    "train['Transported'].value_counts().plot.pie(autopct='%0.2f%%', explode=[0.05,0.02], ax=ax)"
   ]
  },
  {
   "cell_type": "markdown",
   "id": "efbf0cd1",
   "metadata": {
    "papermill": {
     "duration": 0.02919,
     "end_time": "2022-12-19T13:48:23.110029",
     "exception": false,
     "start_time": "2022-12-19T13:48:23.080839",
     "status": "completed"
    },
    "tags": []
   },
   "source": [
    "สร้าง Bar chart โดยเป็นการเปรียบเทียบว่ามีผู้คนที่โดนย้ายหรือไม่โดนย้ายไปมิติอื่นมาจาก `HomePlanet` ใดบ้าง"
   ]
  },
  {
   "cell_type": "code",
   "execution_count": 10,
   "id": "13488bd3",
   "metadata": {
    "execution": {
     "iopub.execute_input": "2022-12-19T13:48:23.172211Z",
     "iopub.status.busy": "2022-12-19T13:48:23.171356Z",
     "iopub.status.idle": "2022-12-19T13:48:23.376310Z",
     "shell.execute_reply": "2022-12-19T13:48:23.374931Z"
    },
    "papermill": {
     "duration": 0.239409,
     "end_time": "2022-12-19T13:48:23.379230",
     "exception": false,
     "start_time": "2022-12-19T13:48:23.139821",
     "status": "completed"
    },
    "tags": []
   },
   "outputs": [
    {
     "data": {
      "text/plain": [
       "<AxesSubplot:xlabel='HomePlanet', ylabel='count'>"
      ]
     },
     "execution_count": 10,
     "metadata": {},
     "output_type": "execute_result"
    },
    {
     "data": {
      "image/png": "[encoded data removed]",
      "text/plain": [
       "<Figure size 504x288 with 1 Axes>"
      ]
     },
     "metadata": {
      "needs_background": "light"
     },
     "output_type": "display_data"
    }
   ],
   "source": [
    "plt.figure(figsize=(7,4))\n",
    "sns.countplot(data=train, x='HomePlanet')"
   ]
  },
  {
   "cell_type": "markdown",
   "id": "7b1455ed",
   "metadata": {
    "papermill": {
     "duration": 0.029171,
     "end_time": "2022-12-19T13:48:23.439205",
     "exception": false,
     "start_time": "2022-12-19T13:48:23.410034",
     "status": "completed"
    },
    "tags": []
   },
   "source": [
    "แสดงค่าและจำนวนที่อยู่ใน `HomePlanet`"
   ]
  },
  {
   "cell_type": "code",
   "execution_count": 11,
   "id": "5ca7e15f",
   "metadata": {
    "execution": {
     "iopub.execute_input": "2022-12-19T13:48:23.503267Z",
     "iopub.status.busy": "2022-12-19T13:48:23.502638Z",
     "iopub.status.idle": "2022-12-19T13:48:23.512425Z",
     "shell.execute_reply": "2022-12-19T13:48:23.511564Z"
    },
    "papermill": {
     "duration": 0.044547,
     "end_time": "2022-12-19T13:48:23.514571",
     "exception": false,
     "start_time": "2022-12-19T13:48:23.470024",
     "status": "completed"
    },
    "tags": []
   },
   "outputs": [
    {
     "data": {
      "text/plain": [
       "Earth     4602\n",
       "Europa    2131\n",
       "Mars      1759\n",
       "Name: HomePlanet, dtype: int64"
      ]
     },
     "execution_count": 11,
     "metadata": {},
     "output_type": "execute_result"
    }
   ],
   "source": [
    "train['HomePlanet'].value_counts()"
   ]
  },
  {
   "cell_type": "markdown",
   "id": "e040368a",
   "metadata": {
    "papermill": {
     "duration": 0.029374,
     "end_time": "2022-12-19T13:48:23.573515",
     "exception": false,
     "start_time": "2022-12-19T13:48:23.544141",
     "status": "completed"
    },
    "tags": []
   },
   "source": [
    "สร้าง Histogram โดยเป็นการเปรียบเทียบจำนวนในแต่ละอายุ (`Age`)"
   ]
  },
  {
   "cell_type": "code",
   "execution_count": 12,
   "id": "eba24829",
   "metadata": {
    "execution": {
     "iopub.execute_input": "2022-12-19T13:48:23.635761Z",
     "iopub.status.busy": "2022-12-19T13:48:23.635267Z",
     "iopub.status.idle": "2022-12-19T13:48:23.975626Z",
     "shell.execute_reply": "2022-12-19T13:48:23.974329Z"
    },
    "papermill": {
     "duration": 0.375033,
     "end_time": "2022-12-19T13:48:23.978415",
     "exception": false,
     "start_time": "2022-12-19T13:48:23.603382",
     "status": "completed"
    },
    "tags": []
   },
   "outputs": [
    {
     "data": {
      "text/plain": [
       "<AxesSubplot:xlabel='Age', ylabel='Count'>"
      ]
     },
     "execution_count": 12,
     "metadata": {},
     "output_type": "execute_result"
    },
    {
     "data": {
      "image/png": "[encoded data removed]",
      "text/plain": [
       "<Figure size 720x288 with 1 Axes>"
      ]
     },
     "metadata": {
      "needs_background": "light"
     },
     "output_type": "display_data"
    }
   ],
   "source": [
    "plt.figure(figsize=(10,4))\n",
    "sns.histplot(data=train, x='Age')"
   ]
  },
  {
   "cell_type": "markdown",
   "id": "169a7749",
   "metadata": {
    "papermill": {
     "duration": 0.03074,
     "end_time": "2022-12-19T13:48:24.039297",
     "exception": false,
     "start_time": "2022-12-19T13:48:24.008557",
     "status": "completed"
    },
    "tags": []
   },
   "source": [
    "สร้าง Bar chart โดยเป็นการเปรียบเทียบข้อมูลว่ามีคนถูกย้ายออกไปมีจุดหมายปลายทางที่ดาวดวงไหน (`Destination`)"
   ]
  },
  {
   "cell_type": "code",
   "execution_count": 13,
   "id": "287200f8",
   "metadata": {
    "execution": {
     "iopub.execute_input": "2022-12-19T13:48:24.102187Z",
     "iopub.status.busy": "2022-12-19T13:48:24.101618Z",
     "iopub.status.idle": "2022-12-19T13:48:24.313829Z",
     "shell.execute_reply": "2022-12-19T13:48:24.312953Z"
    },
    "papermill": {
     "duration": 0.246867,
     "end_time": "2022-12-19T13:48:24.316335",
     "exception": false,
     "start_time": "2022-12-19T13:48:24.069468",
     "status": "completed"
    },
    "tags": []
   },
   "outputs": [
    {
     "data": {
      "text/plain": [
       "<AxesSubplot:xlabel='Destination', ylabel='count'>"
      ]
     },
     "execution_count": 13,
     "metadata": {},
     "output_type": "execute_result"
    },
    {
     "data": {
      "image/png": "[encoded data removed]",
      "text/plain": [
       "<Figure size 504x288 with 1 Axes>"
      ]
     },
     "metadata": {
      "needs_background": "light"
     },
     "output_type": "display_data"
    }
   ],
   "source": [
    "plt.figure(figsize=(7,4))\n",
    "sns.countplot(data=train, x='Destination')"
   ]
  },
  {
   "cell_type": "markdown",
   "id": "74aedb5b",
   "metadata": {
    "papermill": {
     "duration": 0.030021,
     "end_time": "2022-12-19T13:48:24.377467",
     "exception": false,
     "start_time": "2022-12-19T13:48:24.347446",
     "status": "completed"
    },
    "tags": []
   },
   "source": [
    "แสดงค่าและจำนวนที่อยู่ใน `Destination`"
   ]
  },
  {
   "cell_type": "code",
   "execution_count": 14,
   "id": "af82ed53",
   "metadata": {
    "execution": {
     "iopub.execute_input": "2022-12-19T13:48:24.441869Z",
     "iopub.status.busy": "2022-12-19T13:48:24.441331Z",
     "iopub.status.idle": "2022-12-19T13:48:24.451864Z",
     "shell.execute_reply": "2022-12-19T13:48:24.450817Z"
    },
    "papermill": {
     "duration": 0.045541,
     "end_time": "2022-12-19T13:48:24.454422",
     "exception": false,
     "start_time": "2022-12-19T13:48:24.408881",
     "status": "completed"
    },
    "tags": []
   },
   "outputs": [
    {
     "data": {
      "text/plain": [
       "TRAPPIST-1e      5915\n",
       "55 Cancri e      1800\n",
       "PSO J318.5-22     796\n",
       "Name: Destination, dtype: int64"
      ]
     },
     "execution_count": 14,
     "metadata": {},
     "output_type": "execute_result"
    }
   ],
   "source": [
    "train['Destination'].value_counts()"
   ]
  },
  {
   "cell_type": "markdown",
   "id": "f5aedc90",
   "metadata": {
    "papermill": {
     "duration": 0.030573,
     "end_time": "2022-12-19T13:48:24.515705",
     "exception": false,
     "start_time": "2022-12-19T13:48:24.485132",
     "status": "completed"
    },
    "tags": []
   },
   "source": [
    "สร้าง Bar chart โดยเป็นการเปรียบเทียบของคนที่อยู่ในภาวะ CryoSleep กับกลุ่มคนที่ไม่อยู่ใน CryoSleep"
   ]
  },
  {
   "cell_type": "code",
   "execution_count": 15,
   "id": "a0bc419c",
   "metadata": {
    "execution": {
     "iopub.execute_input": "2022-12-19T13:48:24.579960Z",
     "iopub.status.busy": "2022-12-19T13:48:24.579149Z",
     "iopub.status.idle": "2022-12-19T13:48:24.732589Z",
     "shell.execute_reply": "2022-12-19T13:48:24.730751Z"
    },
    "papermill": {
     "duration": 0.191035,
     "end_time": "2022-12-19T13:48:24.737606",
     "exception": false,
     "start_time": "2022-12-19T13:48:24.546571",
     "status": "completed"
    },
    "tags": []
   },
   "outputs": [
    {
     "data": {
      "text/plain": [
       "<AxesSubplot:xlabel='CryoSleep', ylabel='count'>"
      ]
     },
     "execution_count": 15,
     "metadata": {},
     "output_type": "execute_result"
    },
    {
     "data": {
      "image/png": "[encoded data removed]",
      "text/plain": [
       "<Figure size 432x288 with 1 Axes>"
      ]
     },
     "metadata": {
      "needs_background": "light"
     },
     "output_type": "display_data"
    }
   ],
   "source": [
    "plt.figure(figsize=(6,4))\n",
    "sns.countplot(data=train, x='CryoSleep')"
   ]
  },
  {
   "cell_type": "markdown",
   "id": "ea577b5c",
   "metadata": {
    "papermill": {
     "duration": 0.030869,
     "end_time": "2022-12-19T13:48:24.814386",
     "exception": false,
     "start_time": "2022-12-19T13:48:24.783517",
     "status": "completed"
    },
    "tags": []
   },
   "source": [
    "แสดงค่าและจำนวนที่อยู่ใน `CryoSleep`"
   ]
  },
  {
   "cell_type": "code",
   "execution_count": 16,
   "id": "bd1891fc",
   "metadata": {
    "execution": {
     "iopub.execute_input": "2022-12-19T13:48:24.880436Z",
     "iopub.status.busy": "2022-12-19T13:48:24.879518Z",
     "iopub.status.idle": "2022-12-19T13:48:24.889343Z",
     "shell.execute_reply": "2022-12-19T13:48:24.888343Z"
    },
    "papermill": {
     "duration": 0.045966,
     "end_time": "2022-12-19T13:48:24.892153",
     "exception": false,
     "start_time": "2022-12-19T13:48:24.846187",
     "status": "completed"
    },
    "tags": []
   },
   "outputs": [
    {
     "data": {
      "text/plain": [
       "False    5439\n",
       "True     3037\n",
       "Name: CryoSleep, dtype: int64"
      ]
     },
     "execution_count": 16,
     "metadata": {},
     "output_type": "execute_result"
    }
   ],
   "source": [
    "train['CryoSleep'].value_counts()"
   ]
  },
  {
   "cell_type": "markdown",
   "id": "2529a089",
   "metadata": {
    "papermill": {
     "duration": 0.032144,
     "end_time": "2022-12-19T13:48:24.956899",
     "exception": false,
     "start_time": "2022-12-19T13:48:24.924755",
     "status": "completed"
    },
    "tags": []
   },
   "source": [
    "สร้าง Bar chart โดยเป็นการเปรียบเทียบของคนที่เป็น VIP กับบุคคลทั่วไป"
   ]
  },
  {
   "cell_type": "code",
   "execution_count": 17,
   "id": "941cad9d",
   "metadata": {
    "execution": {
     "iopub.execute_input": "2022-12-19T13:48:25.026118Z",
     "iopub.status.busy": "2022-12-19T13:48:25.025067Z",
     "iopub.status.idle": "2022-12-19T13:48:25.259627Z",
     "shell.execute_reply": "2022-12-19T13:48:25.258288Z"
    },
    "papermill": {
     "duration": 0.27228,
     "end_time": "2022-12-19T13:48:25.262712",
     "exception": false,
     "start_time": "2022-12-19T13:48:24.990432",
     "status": "completed"
    },
    "tags": []
   },
   "outputs": [
    {
     "data": {
      "text/plain": [
       "<AxesSubplot:xlabel='VIP', ylabel='count'>"
      ]
     },
     "execution_count": 17,
     "metadata": {},
     "output_type": "execute_result"
    },
    {
     "data": {
      "image/png": "[encoded data removed]",
      "text/plain": [
       "<Figure size 432x288 with 1 Axes>"
      ]
     },
     "metadata": {
      "needs_background": "light"
     },
     "output_type": "display_data"
    }
   ],
   "source": [
    "plt.figure(figsize=(6,4))\n",
    "sns.countplot(data=train, x='VIP')"
   ]
  },
  {
   "cell_type": "markdown",
   "id": "b078c47a",
   "metadata": {
    "papermill": {
     "duration": 0.031994,
     "end_time": "2022-12-19T13:48:25.327309",
     "exception": false,
     "start_time": "2022-12-19T13:48:25.295315",
     "status": "completed"
    },
    "tags": []
   },
   "source": [
    "แสดงค่าและจำนวนที่อยู่ใน `VIP`"
   ]
  },
  {
   "cell_type": "code",
   "execution_count": 18,
   "id": "2386683d",
   "metadata": {
    "execution": {
     "iopub.execute_input": "2022-12-19T13:48:25.394282Z",
     "iopub.status.busy": "2022-12-19T13:48:25.393368Z",
     "iopub.status.idle": "2022-12-19T13:48:25.403931Z",
     "shell.execute_reply": "2022-12-19T13:48:25.402430Z"
    },
    "papermill": {
     "duration": 0.047258,
     "end_time": "2022-12-19T13:48:25.406857",
     "exception": false,
     "start_time": "2022-12-19T13:48:25.359599",
     "status": "completed"
    },
    "tags": []
   },
   "outputs": [
    {
     "data": {
      "text/plain": [
       "False    8291\n",
       "True      199\n",
       "Name: VIP, dtype: int64"
      ]
     },
     "execution_count": 18,
     "metadata": {},
     "output_type": "execute_result"
    }
   ],
   "source": [
    "train['VIP'].value_counts()"
   ]
  },
  {
   "cell_type": "code",
   "execution_count": 19,
   "id": "7c51fbf9",
   "metadata": {
    "execution": {
     "iopub.execute_input": "2022-12-19T13:48:25.475034Z",
     "iopub.status.busy": "2022-12-19T13:48:25.474172Z",
     "iopub.status.idle": "2022-12-19T13:49:56.114382Z",
     "shell.execute_reply": "2022-12-19T13:49:56.112724Z"
    },
    "papermill": {
     "duration": 90.706738,
     "end_time": "2022-12-19T13:49:56.146964",
     "exception": false,
     "start_time": "2022-12-19T13:48:25.440226",
     "status": "completed"
    },
    "tags": []
   },
   "outputs": [
    {
     "data": {
      "text/plain": [
       "<AxesSubplot:xlabel='Cabin', ylabel='count'>"
      ]
     },
     "execution_count": 19,
     "metadata": {},
     "output_type": "execute_result"
    },
    {
     "data": {
      "image/png": "[encoded data removed]",
      "text/plain": [
       "<Figure size 720x288 with 1 Axes>"
      ]
     },
     "metadata": {
      "needs_background": "light"
     },
     "output_type": "display_data"
    }
   ],
   "source": [
    "plt.figure(figsize=(10,4))\n",
    "sns.countplot(data=train, x='Cabin')"
   ]
  },
  {
   "cell_type": "markdown",
   "id": "b6d07e40",
   "metadata": {
    "papermill": {
     "duration": 0.03187,
     "end_time": "2022-12-19T13:49:56.210788",
     "exception": false,
     "start_time": "2022-12-19T13:49:56.178918",
     "status": "completed"
    },
    "tags": []
   },
   "source": [
    "กราฟแสดงให้เห็นว่าค่าใน Cabin กระจายตัวกันมาก เราจึงจะแทนค่าใน Cabin ด้วย \"Z/9999/Z\""
   ]
  },
  {
   "cell_type": "markdown",
   "id": "6ab3c21b",
   "metadata": {
    "papermill": {
     "duration": 0.031947,
     "end_time": "2022-12-19T13:49:56.275077",
     "exception": false,
     "start_time": "2022-12-19T13:49:56.243130",
     "status": "completed"
    },
    "tags": []
   },
   "source": [
    "สร้าง Bar chart ที่แสดงถึงค่าใช้จ่ายในแต่ละส่วนว่าถูกใช้จ่ายไปเท่าใด โดยจะแสดงค่าใช้จ่ายในส่วนของ `RoomService`, `FoodCourt`, `ShoppingMall`, `Spa`, และ `VRDeck`"
   ]
  },
  {
   "cell_type": "code",
   "execution_count": 20,
   "id": "bea802be",
   "metadata": {
    "execution": {
     "iopub.execute_input": "2022-12-19T13:49:56.342404Z",
     "iopub.status.busy": "2022-12-19T13:49:56.341745Z",
     "iopub.status.idle": "2022-12-19T13:50:00.520458Z",
     "shell.execute_reply": "2022-12-19T13:50:00.519258Z"
    },
    "papermill": {
     "duration": 4.215862,
     "end_time": "2022-12-19T13:50:00.523304",
     "exception": false,
     "start_time": "2022-12-19T13:49:56.307442",
     "status": "completed"
    },
    "tags": []
   },
   "outputs": [
    {
     "data": {
      "image/png": "[encoded data removed]",
      "text/plain": [
       "<Figure size 720x1440 with 10 Axes>"
      ]
     },
     "metadata": {
      "needs_background": "light"
     },
     "output_type": "display_data"
    }
   ],
   "source": [
    "# Expenditure features\n",
    "exp_feats=['RoomService', 'FoodCourt', 'ShoppingMall', 'Spa', 'VRDeck']\n",
    "\n",
    "# Plot expenditure features\n",
    "fig=plt.figure(figsize=(10,20))\n",
    "for i, var_name in enumerate(exp_feats):\n",
    "    # Left plot\n",
    "    ax=fig.add_subplot(5,2,2*i+1)\n",
    "    sns.histplot(data=train, x=var_name, axes=ax, bins=30, kde=False, hue='Transported')\n",
    "    ax.set_title(var_name)\n",
    "    \n",
    "    # Right plot (truncated)\n",
    "    ax=fig.add_subplot(5,2,2*i+2)\n",
    "    sns.histplot(data=train, x=var_name, axes=ax, bins=30, kde=True, hue='Transported')\n",
    "    plt.ylim([0,100])\n",
    "    ax.set_title(var_name)\n",
    "fig.tight_layout()  # Improves appearance a bit\n",
    "plt.show()"
   ]
  },
  {
   "cell_type": "markdown",
   "id": "886c3501",
   "metadata": {
    "papermill": {
     "duration": 0.034207,
     "end_time": "2022-12-19T13:50:00.593262",
     "exception": false,
     "start_time": "2022-12-19T13:50:00.559055",
     "status": "completed"
    },
    "tags": []
   },
   "source": [
    "# Data Preprocessing & Feature Engineering 🧰\n",
    "\n",
    "เติมข้อมูลที่หายไป โดย\n",
    "\n",
    "ข้อมูลของ `HomePlant`, `CryoSleep`, `Destination`, `VIP` จะเป็นการใช้ข้อมูลที่เป็นฐานนิยมเข้าไปแทนที่\n",
    "\n",
    "ในส่วนของ `Cabin` จะใช้ค่าที่กำหนดขึ้นมาใหม่ซึ่งก็คือ Z/9999/Z เข้าไปแทนที่เนื่องจากเราไม่ทราบเลขที่แน่นอนของที่นั่ง\n",
    "\n",
    "ในส่วนของ `Age` จะใช้ค่ากลางอายุของผู้โดยสาร\n",
    "\n",
    "ในส่วนของ `RoomService`, `FoodCourt`, `ShoppingMall`, `Spa`, `VRDeck` จะใช้ค่า 0 เข้าไปแทน\n"
   ]
  },
  {
   "cell_type": "code",
   "execution_count": 21,
   "id": "6ac2fd63",
   "metadata": {
    "execution": {
     "iopub.execute_input": "2022-12-19T13:50:00.666106Z",
     "iopub.status.busy": "2022-12-19T13:50:00.665355Z",
     "iopub.status.idle": "2022-12-19T13:50:00.698242Z",
     "shell.execute_reply": "2022-12-19T13:50:00.697020Z"
    },
    "papermill": {
     "duration": 0.073445,
     "end_time": "2022-12-19T13:50:00.701276",
     "exception": false,
     "start_time": "2022-12-19T13:50:00.627831",
     "status": "completed"
    },
    "tags": []
   },
   "outputs": [],
   "source": [
    "train['HomePlanet'].fillna(train['HomePlanet'].mode()[0], inplace=True)\n",
    "test['HomePlanet'].fillna(test['HomePlanet'].mode()[0], inplace=True)\n",
    "\n",
    "train['CryoSleep'].fillna(False, inplace=True)\n",
    "test['CryoSleep'].fillna(False, inplace=True)\n",
    "\n",
    "train['Cabin'].fillna('Z/9999/Z', inplace=True)\n",
    "test['Cabin'].fillna('Z/9999/Z', inplace=True)\n",
    "\n",
    "train['Destination'].fillna(train['Destination'].mode()[0], inplace=True)\n",
    "test['Destination'].fillna(test['Destination'].mode()[0], inplace=True)\n",
    "\n",
    "train['Age'].fillna((train['Age'].median()), inplace=True)\n",
    "test['Age'].fillna((test['Age'].median()), inplace=True)\n",
    "\n",
    "train['VIP'].fillna(False, inplace=True)\n",
    "test['VIP'].fillna(False, inplace=True)\n",
    "\n",
    "train[['RoomService','FoodCourt','ShoppingMall','Spa','VRDeck']] = train[['RoomService','FoodCourt','ShoppingMall','Spa','VRDeck']].fillna(0)\n",
    "test[['RoomService','FoodCourt','ShoppingMall','Spa','VRDeck']] = test[['RoomService','FoodCourt','ShoppingMall','Spa','VRDeck']].fillna(0)"
   ]
  },
  {
   "cell_type": "markdown",
   "id": "78da0d62",
   "metadata": {
    "papermill": {
     "duration": 0.03477,
     "end_time": "2022-12-19T13:50:00.770748",
     "exception": false,
     "start_time": "2022-12-19T13:50:00.735978",
     "status": "completed"
    },
    "tags": []
   },
   "source": [
    "สร้าง Feature ใหม่ที่ชื่อ `TotalSpent` จากการรวมค่าของ `RoomService`, `FoodCourt`, `ShoppingMall`, `Spa`, `VRDeck`"
   ]
  },
  {
   "cell_type": "code",
   "execution_count": 22,
   "id": "bd3d417d",
   "metadata": {
    "execution": {
     "iopub.execute_input": "2022-12-19T13:50:00.843103Z",
     "iopub.status.busy": "2022-12-19T13:50:00.842616Z",
     "iopub.status.idle": "2022-12-19T13:50:00.853926Z",
     "shell.execute_reply": "2022-12-19T13:50:00.852738Z"
    },
    "papermill": {
     "duration": 0.051147,
     "end_time": "2022-12-19T13:50:00.856936",
     "exception": false,
     "start_time": "2022-12-19T13:50:00.805789",
     "status": "completed"
    },
    "tags": []
   },
   "outputs": [],
   "source": [
    "train['TotalSpent'] = train[['RoomService', 'FoodCourt', 'ShoppingMall', 'Spa', 'VRDeck']].sum(axis=1)\n",
    "test['TotalSpent'] = test[['RoomService', 'FoodCourt', 'ShoppingMall', 'Spa', 'VRDeck']].sum(axis=1)"
   ]
  },
  {
   "cell_type": "markdown",
   "id": "6fd6b9d4",
   "metadata": {
    "papermill": {
     "duration": 0.034648,
     "end_time": "2022-12-19T13:50:00.927406",
     "exception": false,
     "start_time": "2022-12-19T13:50:00.892758",
     "status": "completed"
    },
    "tags": []
   },
   "source": [
    "สร้าง Feature ใหม่ 3 ตัว ได้แก่ `CabinDeck`, `CabinNum`, `CabinSide` จาก `Cabin` โดยใช้เครื่องหมาย `/` ในการแบ่ง"
   ]
  },
  {
   "cell_type": "code",
   "execution_count": 23,
   "id": "da5f2bfb",
   "metadata": {
    "execution": {
     "iopub.execute_input": "2022-12-19T13:50:01.001794Z",
     "iopub.status.busy": "2022-12-19T13:50:01.001303Z",
     "iopub.status.idle": "2022-12-19T13:50:01.036546Z",
     "shell.execute_reply": "2022-12-19T13:50:01.035583Z"
    },
    "papermill": {
     "duration": 0.076013,
     "end_time": "2022-12-19T13:50:01.039552",
     "exception": false,
     "start_time": "2022-12-19T13:50:00.963539",
     "status": "completed"
    },
    "tags": []
   },
   "outputs": [],
   "source": [
    "train[[\"CabinDeck\", \"CabinNum\", \"CabinSide\"]] = train[\"Cabin\"].str.split(\"/\", expand=True)\n",
    "test[[\"CabinDeck\", \"CabinNum\", \"CabinSide\"]] = test[\"Cabin\"].str.split(\"/\", expand=True)"
   ]
  },
  {
   "cell_type": "markdown",
   "id": "cc90c8eb",
   "metadata": {
    "papermill": {
     "duration": 0.034584,
     "end_time": "2022-12-19T13:50:01.110282",
     "exception": false,
     "start_time": "2022-12-19T13:50:01.075698",
     "status": "completed"
    },
    "tags": []
   },
   "source": [
    "สร้างกราฟจาก `CabinDeck` โดยแสดงจำนวนในแต่ละ Deck "
   ]
  },
  {
   "cell_type": "code",
   "execution_count": 24,
   "id": "67157d22",
   "metadata": {
    "execution": {
     "iopub.execute_input": "2022-12-19T13:50:01.187989Z",
     "iopub.status.busy": "2022-12-19T13:50:01.187497Z",
     "iopub.status.idle": "2022-12-19T13:50:01.436086Z",
     "shell.execute_reply": "2022-12-19T13:50:01.434701Z"
    },
    "papermill": {
     "duration": 0.292584,
     "end_time": "2022-12-19T13:50:01.438874",
     "exception": false,
     "start_time": "2022-12-19T13:50:01.146290",
     "status": "completed"
    },
    "tags": []
   },
   "outputs": [
    {
     "data": {
      "text/plain": [
       "<AxesSubplot:xlabel='CabinDeck', ylabel='count'>"
      ]
     },
     "execution_count": 24,
     "metadata": {},
     "output_type": "execute_result"
    },
    {
     "data": {
      "image/png": "[encoded data removed]",
      "text/plain": [
       "<Figure size 432x288 with 1 Axes>"
      ]
     },
     "metadata": {
      "needs_background": "light"
     },
     "output_type": "display_data"
    }
   ],
   "source": [
    "plt.figure(figsize=(6,4))\n",
    "sns.countplot(data=train, x='CabinDeck')"
   ]
  },
  {
   "cell_type": "markdown",
   "id": "8540ed29",
   "metadata": {
    "papermill": {
     "duration": 0.035685,
     "end_time": "2022-12-19T13:50:01.509658",
     "exception": false,
     "start_time": "2022-12-19T13:50:01.473973",
     "status": "completed"
    },
    "tags": []
   },
   "source": [
    "สร้างกราฟจาก `CabinNum` โดยแสดงจำนวนในแต่ละ Num"
   ]
  },
  {
   "cell_type": "code",
   "execution_count": 25,
   "id": "6e5845a7",
   "metadata": {
    "execution": {
     "iopub.execute_input": "2022-12-19T13:50:01.582929Z",
     "iopub.status.busy": "2022-12-19T13:50:01.582402Z",
     "iopub.status.idle": "2022-12-19T13:50:24.003371Z",
     "shell.execute_reply": "2022-12-19T13:50:24.002146Z"
    },
    "papermill": {
     "duration": 22.461502,
     "end_time": "2022-12-19T13:50:24.006472",
     "exception": false,
     "start_time": "2022-12-19T13:50:01.544970",
     "status": "completed"
    },
    "tags": []
   },
   "outputs": [
    {
     "data": {
      "text/plain": [
       "<AxesSubplot:xlabel='CabinNum', ylabel='count'>"
      ]
     },
     "execution_count": 25,
     "metadata": {},
     "output_type": "execute_result"
    },
    {
     "data": {
      "image/png": "[encoded data removed]",
      "text/plain": [
       "<Figure size 720x288 with 1 Axes>"
      ]
     },
     "metadata": {
      "needs_background": "light"
     },
     "output_type": "display_data"
    }
   ],
   "source": [
    "plt.figure(figsize=(10,4))\n",
    "sns.countplot(data=train, x='CabinNum')"
   ]
  },
  {
   "cell_type": "markdown",
   "id": "9658cb0e",
   "metadata": {
    "papermill": {
     "duration": 0.03542,
     "end_time": "2022-12-19T13:50:24.078125",
     "exception": false,
     "start_time": "2022-12-19T13:50:24.042705",
     "status": "completed"
    },
    "tags": []
   },
   "source": [
    "สร้างกราฟจาก `CabinSide` โดยแสดงจำนวนในแต่ละ Cabin"
   ]
  },
  {
   "cell_type": "code",
   "execution_count": 26,
   "id": "0b399652",
   "metadata": {
    "execution": {
     "iopub.execute_input": "2022-12-19T13:50:24.152027Z",
     "iopub.status.busy": "2022-12-19T13:50:24.151497Z",
     "iopub.status.idle": "2022-12-19T13:50:24.354405Z",
     "shell.execute_reply": "2022-12-19T13:50:24.353146Z"
    },
    "papermill": {
     "duration": 0.243268,
     "end_time": "2022-12-19T13:50:24.357103",
     "exception": false,
     "start_time": "2022-12-19T13:50:24.113835",
     "status": "completed"
    },
    "tags": []
   },
   "outputs": [
    {
     "data": {
      "text/plain": [
       "<AxesSubplot:xlabel='CabinSide', ylabel='count'>"
      ]
     },
     "execution_count": 26,
     "metadata": {},
     "output_type": "execute_result"
    },
    {
     "data": {
      "image/png": "[encoded data removed]",
      "text/plain": [
       "<Figure size 720x288 with 1 Axes>"
      ]
     },
     "metadata": {
      "needs_background": "light"
     },
     "output_type": "display_data"
    }
   ],
   "source": [
    "plt.figure(figsize=(10,4))\n",
    "sns.countplot(data=train, x='CabinSide')"
   ]
  },
  {
   "cell_type": "markdown",
   "id": "a86d5fd2",
   "metadata": {
    "papermill": {
     "duration": 0.037252,
     "end_time": "2022-12-19T13:50:24.431452",
     "exception": false,
     "start_time": "2022-12-19T13:50:24.394200",
     "status": "completed"
    },
    "tags": []
   },
   "source": [
    "สร้าง Feature ใหม่ 2 ตัว ได้แก่ `Group`, `GroupPos` โดยใช้เครื่องหมาย `_` ในการแบ่ง"
   ]
  },
  {
   "cell_type": "code",
   "execution_count": 27,
   "id": "63bfdbcb",
   "metadata": {
    "execution": {
     "iopub.execute_input": "2022-12-19T13:50:24.508054Z",
     "iopub.status.busy": "2022-12-19T13:50:24.507524Z",
     "iopub.status.idle": "2022-12-19T13:50:24.545425Z",
     "shell.execute_reply": "2022-12-19T13:50:24.544194Z"
    },
    "papermill": {
     "duration": 0.079728,
     "end_time": "2022-12-19T13:50:24.548539",
     "exception": false,
     "start_time": "2022-12-19T13:50:24.468811",
     "status": "completed"
    },
    "tags": []
   },
   "outputs": [],
   "source": [
    "train[[\"Group\", \"GroupPos\"]] = train[\"PassengerId\"].str.split(\"_\", expand=True)\n",
    "test[[\"Group\", \"GroupPos\"]] = test[\"PassengerId\"].str.split(\"_\", expand=True)"
   ]
  },
  {
   "cell_type": "markdown",
   "id": "48a86da8",
   "metadata": {
    "papermill": {
     "duration": 0.035403,
     "end_time": "2022-12-19T13:50:24.620306",
     "exception": false,
     "start_time": "2022-12-19T13:50:24.584903",
     "status": "completed"
    },
    "tags": []
   },
   "source": [
    "สร้างกราฟจาก `Group` โดยแสดงจำนวนในแต่ละ Group"
   ]
  },
  {
   "cell_type": "code",
   "execution_count": 28,
   "id": "e2fe19d2",
   "metadata": {
    "execution": {
     "iopub.execute_input": "2022-12-19T13:50:24.694375Z",
     "iopub.status.busy": "2022-12-19T13:50:24.693865Z",
     "iopub.status.idle": "2022-12-19T13:51:40.936908Z",
     "shell.execute_reply": "2022-12-19T13:51:40.935547Z"
    },
    "papermill": {
     "duration": 76.321603,
     "end_time": "2022-12-19T13:51:40.977752",
     "exception": false,
     "start_time": "2022-12-19T13:50:24.656149",
     "status": "completed"
    },
    "tags": []
   },
   "outputs": [
    {
     "data": {
      "text/plain": [
       "<AxesSubplot:xlabel='Group', ylabel='count'>"
      ]
     },
     "execution_count": 28,
     "metadata": {},
     "output_type": "execute_result"
    },
    {
     "data": {
      "image/png": "[encoded data removed]",
      "text/plain": [
       "<Figure size 720x288 with 1 Axes>"
      ]
     },
     "metadata": {
      "needs_background": "light"
     },
     "output_type": "display_data"
    }
   ],
   "source": [
    "plt.figure(figsize=(10,4))\n",
    "sns.countplot(data=train, x='Group')"
   ]
  },
  {
   "cell_type": "markdown",
   "id": "601b2438",
   "metadata": {
    "papermill": {
     "duration": 0.037916,
     "end_time": "2022-12-19T13:51:41.053336",
     "exception": false,
     "start_time": "2022-12-19T13:51:41.015420",
     "status": "completed"
    },
    "tags": []
   },
   "source": [
    "สร้างกราฟจาก `GroupPos`"
   ]
  },
  {
   "cell_type": "code",
   "execution_count": 29,
   "id": "22e613c0",
   "metadata": {
    "execution": {
     "iopub.execute_input": "2022-12-19T13:51:41.131340Z",
     "iopub.status.busy": "2022-12-19T13:51:41.130385Z",
     "iopub.status.idle": "2022-12-19T13:51:41.382017Z",
     "shell.execute_reply": "2022-12-19T13:51:41.380612Z"
    },
    "papermill": {
     "duration": 0.292718,
     "end_time": "2022-12-19T13:51:41.384798",
     "exception": false,
     "start_time": "2022-12-19T13:51:41.092080",
     "status": "completed"
    },
    "tags": []
   },
   "outputs": [
    {
     "data": {
      "text/plain": [
       "<AxesSubplot:xlabel='GroupPos', ylabel='count'>"
      ]
     },
     "execution_count": 29,
     "metadata": {},
     "output_type": "execute_result"
    },
    {
     "data": {
      "image/png": "[encoded data removed]",
      "text/plain": [
       "<Figure size 432x288 with 1 Axes>"
      ]
     },
     "metadata": {
      "needs_background": "light"
     },
     "output_type": "display_data"
    }
   ],
   "source": [
    "plt.figure(figsize=(6,4))\n",
    "sns.countplot(data=train, x='GroupPos')"
   ]
  },
  {
   "cell_type": "markdown",
   "id": "966fc886",
   "metadata": {
    "papermill": {
     "duration": 0.038736,
     "end_time": "2022-12-19T13:51:41.465443",
     "exception": false,
     "start_time": "2022-12-19T13:51:41.426707",
     "status": "completed"
    },
    "tags": []
   },
   "source": [
    "#### แสดงค่าและจำนวนใน `GroupPos`"
   ]
  },
  {
   "cell_type": "code",
   "execution_count": 30,
   "id": "3b2d1de7",
   "metadata": {
    "execution": {
     "iopub.execute_input": "2022-12-19T13:51:41.547791Z",
     "iopub.status.busy": "2022-12-19T13:51:41.547271Z",
     "iopub.status.idle": "2022-12-19T13:51:41.559037Z",
     "shell.execute_reply": "2022-12-19T13:51:41.557689Z"
    },
    "papermill": {
     "duration": 0.055978,
     "end_time": "2022-12-19T13:51:41.561825",
     "exception": false,
     "start_time": "2022-12-19T13:51:41.505847",
     "status": "completed"
    },
    "tags": []
   },
   "outputs": [
    {
     "data": {
      "text/plain": [
       "01    6217\n",
       "02    1412\n",
       "03     571\n",
       "04     231\n",
       "05     128\n",
       "06      75\n",
       "07      46\n",
       "08      13\n",
       "Name: GroupPos, dtype: int64"
      ]
     },
     "execution_count": 30,
     "metadata": {},
     "output_type": "execute_result"
    }
   ],
   "source": [
    "train['GroupPos'].value_counts()"
   ]
  },
  {
   "cell_type": "markdown",
   "id": "bc0e320d",
   "metadata": {
    "papermill": {
     "duration": 0.037759,
     "end_time": "2022-12-19T13:51:41.637845",
     "exception": false,
     "start_time": "2022-12-19T13:51:41.600086",
     "status": "completed"
    },
    "tags": []
   },
   "source": [
    "#### ทำการสร้างกลุ่มช่วงอายุ `AgeGroup` โดย\n",
    "\n",
    "อายุน้อยกว่าหรือเท่ากับ 5 เป็นช่วงอายุที่ 0\n",
    "\n",
    "อายุตั้งแต่ 5 ไปจนถึง 12 เป็นช่วงอายุที่ 1\n",
    "\n",
    "อายุตั้งแต่ 12 ไปจนถึง 17 เป็นช่วงอายุที่ 2\n",
    "\n",
    "อายุตั้งแต่ 17 ไปจนถึง 25 เป็นช่วงอายุที่ 3\n",
    "\n",
    "อายุตั้งแต่ 25 ไปจนถึง 30 เป็นช่วงอายุที่ 4\n",
    "\n",
    "อายุตั้งแต่ 30 ไปจนถึง 50 เป็นช่วงอายุที่ 5\n",
    "\n",
    "อายุตั้งแต่ 50 เป็นต้นไป เป็นช่วงอายุที่ 6"
   ]
  },
  {
   "cell_type": "code",
   "execution_count": 31,
   "id": "7e8b8b3f",
   "metadata": {
    "execution": {
     "iopub.execute_input": "2022-12-19T13:51:41.718285Z",
     "iopub.status.busy": "2022-12-19T13:51:41.716962Z",
     "iopub.status.idle": "2022-12-19T13:51:42.041911Z",
     "shell.execute_reply": "2022-12-19T13:51:42.040460Z"
    },
    "papermill": {
     "duration": 0.368448,
     "end_time": "2022-12-19T13:51:42.045050",
     "exception": false,
     "start_time": "2022-12-19T13:51:41.676602",
     "status": "completed"
    },
    "tags": []
   },
   "outputs": [
    {
     "data": {
      "text/plain": [
       "<AxesSubplot:xlabel='AgeGroup', ylabel='count'>"
      ]
     },
     "execution_count": 31,
     "metadata": {},
     "output_type": "execute_result"
    },
    {
     "data": {
      "image/png": "[encoded data removed]",
      "text/plain": [
       "<Figure size 432x288 with 1 Axes>"
      ]
     },
     "metadata": {
      "needs_background": "light"
     },
     "output_type": "display_data"
    }
   ],
   "source": [
    "train['AgeGroup'] = np.nan\n",
    "train.loc[train['Age'] <= 5, 'AgeGroup'] = 0\n",
    "train.loc[(train['Age'] > 5) & (train['Age'] <= 12), 'AgeGroup'] = 1\n",
    "train.loc[(train['Age'] > 12) & (train['Age'] <= 17), 'AgeGroup'] = 2\n",
    "train.loc[(train['Age'] > 17) & (train['Age'] <= 25), 'AgeGroup'] = 3\n",
    "train.loc[(train['Age'] > 25) & (train['Age'] <= 30), 'AgeGroup'] = 4\n",
    "train.loc[(train['Age'] > 30) & (train['Age'] <= 50), 'AgeGroup'] = 5\n",
    "train.loc[train['Age'] > 50, 'AgeGroup'] = 6\n",
    "\n",
    "test['AgeGroup'] = np.nan\n",
    "test.loc[test['Age'] <= 5, 'AgeGroup'] = 0\n",
    "test.loc[(test['Age'] > 5) & (test['Age'] <= 12), 'AgeGroup'] = 1\n",
    "test.loc[(test['Age'] > 12) & (test['Age'] <= 17), 'AgeGroup'] = 2\n",
    "test.loc[(test['Age'] > 17) & (test['Age'] <= 25), 'AgeGroup'] = 3\n",
    "test.loc[(test['Age'] > 25) & (test['Age'] <= 30), 'AgeGroup'] = 4\n",
    "test.loc[(test['Age'] > 30) & (test['Age'] <= 50), 'AgeGroup'] = 5\n",
    "test.loc[test['Age'] > 50, 'AgeGroup'] = 6\n",
    "\n",
    "sns.countplot(data=train, x='AgeGroup', hue='Transported')"
   ]
  },
  {
   "cell_type": "markdown",
   "id": "6dd44da5",
   "metadata": {
    "papermill": {
     "duration": 0.037029,
     "end_time": "2022-12-19T13:51:42.120897",
     "exception": false,
     "start_time": "2022-12-19T13:51:42.083868",
     "status": "completed"
    },
    "tags": []
   },
   "source": [
    "# Data Modeling 📑\n",
    "\n",
    "นำเข้าไลบรารี่ `LableEncoder` จาก `sklearn` เพื่อแปลงข้อมูลให้อยู่ในรูปแบบของตัวเลขในที่นี้เราจะใช้กับตัว Output\n",
    "\n",
    "ใช้คำสั่ง `.fit_transform` เพื่อเอาข้อมูลมาคำนวณหาค่าเฉลี่ยกับส่วนเบี่ยงเบนมาตราฐานและแปลงให้เป็นค่ามาตราฐาน\n"
   ]
  },
  {
   "cell_type": "code",
   "execution_count": 32,
   "id": "00151418",
   "metadata": {
    "execution": {
     "iopub.execute_input": "2022-12-19T13:51:42.199202Z",
     "iopub.status.busy": "2022-12-19T13:51:42.198161Z",
     "iopub.status.idle": "2022-12-19T13:51:42.347360Z",
     "shell.execute_reply": "2022-12-19T13:51:42.346167Z"
    },
    "papermill": {
     "duration": 0.192069,
     "end_time": "2022-12-19T13:51:42.350578",
     "exception": false,
     "start_time": "2022-12-19T13:51:42.158509",
     "status": "completed"
    },
    "tags": []
   },
   "outputs": [],
   "source": [
    "from sklearn.preprocessing import LabelEncoder\n",
    "label = LabelEncoder()\n",
    "\n",
    "train['CryoSleep']=label.fit_transform(train['CryoSleep'])\n",
    "test['CryoSleep']=label.fit_transform(test['CryoSleep'])\n",
    "\n",
    "train['VIP']=label.fit_transform(train['VIP'])\n",
    "test['VIP']=label.fit_transform(test['VIP'])\n",
    "\n",
    "train['Transported']=label.fit_transform(train['Transported'])"
   ]
  },
  {
   "cell_type": "markdown",
   "id": "97b92d8d",
   "metadata": {
    "papermill": {
     "duration": 0.039277,
     "end_time": "2022-12-19T13:51:42.428308",
     "exception": false,
     "start_time": "2022-12-19T13:51:42.389031",
     "status": "completed"
    },
    "tags": []
   },
   "source": [
    "นำเข้าไลบรารี่ `OneHotEncoder` จาก `sklearn` เพื่อใช้แปลงข้อมูลที่ถูกเก็บในรูปแบบหมวดหมู่ให้เป็นไบนารี่ที่มีค่าเป็น 0 หรือ 1 เท่านั้น\n",
    "\n",
    "แปลงข้อมูลที่อยู่ในคอลัมน์จากข้อมูลเชิงคุณภาพให้เป็นข้อมูลเชิงปริมาณเพื่อนำไปใช้ในสมการ Regression โดยใช้ตัวแปร Train กับ Test  \n",
    "โดยเราจะใช้คำสั่ง `pd.get_dummies` ในการสร้างตัวแปร\n"
   ]
  },
  {
   "cell_type": "code",
   "execution_count": 33,
   "id": "f035b1ed",
   "metadata": {
    "execution": {
     "iopub.execute_input": "2022-12-19T13:51:42.508688Z",
     "iopub.status.busy": "2022-12-19T13:51:42.508131Z",
     "iopub.status.idle": "2022-12-19T13:51:42.578496Z",
     "shell.execute_reply": "2022-12-19T13:51:42.577144Z"
    },
    "papermill": {
     "duration": 0.115212,
     "end_time": "2022-12-19T13:51:42.581836",
     "exception": false,
     "start_time": "2022-12-19T13:51:42.466624",
     "status": "completed"
    },
    "tags": []
   },
   "outputs": [
    {
     "data": {
      "text/html": [
       "<div>\n",
       "<style scoped>\n",
       "    .dataframe tbody tr th:only-of-type {\n",
       "        vertical-align: middle;\n",
       "    }\n",
       "\n",
       "    .dataframe tbody tr th {\n",
       "        vertical-align: top;\n",
       "    }\n",
       "\n",
       "    .dataframe thead th {\n",
       "        text-align: right;\n",
       "    }\n",
       "</style>\n",
       "<table border=\"1\" class=\"dataframe\">\n",
       "  <thead>\n",
       "    <tr style=\"text-align: right;\">\n",
       "      <th></th>\n",
       "      <th>PassengerId</th>\n",
       "      <th>CryoSleep</th>\n",
       "      <th>Cabin</th>\n",
       "      <th>Age</th>\n",
       "      <th>VIP</th>\n",
       "      <th>RoomService</th>\n",
       "      <th>FoodCourt</th>\n",
       "      <th>ShoppingMall</th>\n",
       "      <th>Spa</th>\n",
       "      <th>VRDeck</th>\n",
       "      <th>...</th>\n",
       "      <th>CabinDeck_C</th>\n",
       "      <th>CabinDeck_D</th>\n",
       "      <th>CabinDeck_E</th>\n",
       "      <th>CabinDeck_F</th>\n",
       "      <th>CabinDeck_G</th>\n",
       "      <th>CabinDeck_T</th>\n",
       "      <th>CabinDeck_Z</th>\n",
       "      <th>CabinSide_P</th>\n",
       "      <th>CabinSide_S</th>\n",
       "      <th>CabinSide_Z</th>\n",
       "    </tr>\n",
       "  </thead>\n",
       "  <tbody>\n",
       "    <tr>\n",
       "      <th>0</th>\n",
       "      <td>0013_01</td>\n",
       "      <td>1</td>\n",
       "      <td>G/3/S</td>\n",
       "      <td>27.0</td>\n",
       "      <td>0</td>\n",
       "      <td>0.0</td>\n",
       "      <td>0.0</td>\n",
       "      <td>0.0</td>\n",
       "      <td>0.0</td>\n",
       "      <td>0.0</td>\n",
       "      <td>...</td>\n",
       "      <td>0</td>\n",
       "      <td>0</td>\n",
       "      <td>0</td>\n",
       "      <td>0</td>\n",
       "      <td>1</td>\n",
       "      <td>0</td>\n",
       "      <td>0</td>\n",
       "      <td>0</td>\n",
       "      <td>1</td>\n",
       "      <td>0</td>\n",
       "    </tr>\n",
       "    <tr>\n",
       "      <th>1</th>\n",
       "      <td>0018_01</td>\n",
       "      <td>0</td>\n",
       "      <td>F/4/S</td>\n",
       "      <td>19.0</td>\n",
       "      <td>0</td>\n",
       "      <td>0.0</td>\n",
       "      <td>9.0</td>\n",
       "      <td>0.0</td>\n",
       "      <td>2823.0</td>\n",
       "      <td>0.0</td>\n",
       "      <td>...</td>\n",
       "      <td>0</td>\n",
       "      <td>0</td>\n",
       "      <td>0</td>\n",
       "      <td>1</td>\n",
       "      <td>0</td>\n",
       "      <td>0</td>\n",
       "      <td>0</td>\n",
       "      <td>0</td>\n",
       "      <td>1</td>\n",
       "      <td>0</td>\n",
       "    </tr>\n",
       "    <tr>\n",
       "      <th>2</th>\n",
       "      <td>0019_01</td>\n",
       "      <td>1</td>\n",
       "      <td>C/0/S</td>\n",
       "      <td>31.0</td>\n",
       "      <td>0</td>\n",
       "      <td>0.0</td>\n",
       "      <td>0.0</td>\n",
       "      <td>0.0</td>\n",
       "      <td>0.0</td>\n",
       "      <td>0.0</td>\n",
       "      <td>...</td>\n",
       "      <td>1</td>\n",
       "      <td>0</td>\n",
       "      <td>0</td>\n",
       "      <td>0</td>\n",
       "      <td>0</td>\n",
       "      <td>0</td>\n",
       "      <td>0</td>\n",
       "      <td>0</td>\n",
       "      <td>1</td>\n",
       "      <td>0</td>\n",
       "    </tr>\n",
       "    <tr>\n",
       "      <th>3</th>\n",
       "      <td>0021_01</td>\n",
       "      <td>0</td>\n",
       "      <td>C/1/S</td>\n",
       "      <td>38.0</td>\n",
       "      <td>0</td>\n",
       "      <td>0.0</td>\n",
       "      <td>6652.0</td>\n",
       "      <td>0.0</td>\n",
       "      <td>181.0</td>\n",
       "      <td>585.0</td>\n",
       "      <td>...</td>\n",
       "      <td>1</td>\n",
       "      <td>0</td>\n",
       "      <td>0</td>\n",
       "      <td>0</td>\n",
       "      <td>0</td>\n",
       "      <td>0</td>\n",
       "      <td>0</td>\n",
       "      <td>0</td>\n",
       "      <td>1</td>\n",
       "      <td>0</td>\n",
       "    </tr>\n",
       "    <tr>\n",
       "      <th>4</th>\n",
       "      <td>0023_01</td>\n",
       "      <td>0</td>\n",
       "      <td>F/5/S</td>\n",
       "      <td>20.0</td>\n",
       "      <td>0</td>\n",
       "      <td>10.0</td>\n",
       "      <td>0.0</td>\n",
       "      <td>635.0</td>\n",
       "      <td>0.0</td>\n",
       "      <td>0.0</td>\n",
       "      <td>...</td>\n",
       "      <td>0</td>\n",
       "      <td>0</td>\n",
       "      <td>0</td>\n",
       "      <td>1</td>\n",
       "      <td>0</td>\n",
       "      <td>0</td>\n",
       "      <td>0</td>\n",
       "      <td>0</td>\n",
       "      <td>1</td>\n",
       "      <td>0</td>\n",
       "    </tr>\n",
       "    <tr>\n",
       "      <th>...</th>\n",
       "      <td>...</td>\n",
       "      <td>...</td>\n",
       "      <td>...</td>\n",
       "      <td>...</td>\n",
       "      <td>...</td>\n",
       "      <td>...</td>\n",
       "      <td>...</td>\n",
       "      <td>...</td>\n",
       "      <td>...</td>\n",
       "      <td>...</td>\n",
       "      <td>...</td>\n",
       "      <td>...</td>\n",
       "      <td>...</td>\n",
       "      <td>...</td>\n",
       "      <td>...</td>\n",
       "      <td>...</td>\n",
       "      <td>...</td>\n",
       "      <td>...</td>\n",
       "      <td>...</td>\n",
       "      <td>...</td>\n",
       "      <td>...</td>\n",
       "    </tr>\n",
       "    <tr>\n",
       "      <th>4272</th>\n",
       "      <td>9266_02</td>\n",
       "      <td>1</td>\n",
       "      <td>G/1496/S</td>\n",
       "      <td>34.0</td>\n",
       "      <td>0</td>\n",
       "      <td>0.0</td>\n",
       "      <td>0.0</td>\n",
       "      <td>0.0</td>\n",
       "      <td>0.0</td>\n",
       "      <td>0.0</td>\n",
       "      <td>...</td>\n",
       "      <td>0</td>\n",
       "      <td>0</td>\n",
       "      <td>0</td>\n",
       "      <td>0</td>\n",
       "      <td>1</td>\n",
       "      <td>0</td>\n",
       "      <td>0</td>\n",
       "      <td>0</td>\n",
       "      <td>1</td>\n",
       "      <td>0</td>\n",
       "    </tr>\n",
       "    <tr>\n",
       "      <th>4273</th>\n",
       "      <td>9269_01</td>\n",
       "      <td>0</td>\n",
       "      <td>Z/9999/Z</td>\n",
       "      <td>42.0</td>\n",
       "      <td>0</td>\n",
       "      <td>0.0</td>\n",
       "      <td>847.0</td>\n",
       "      <td>17.0</td>\n",
       "      <td>10.0</td>\n",
       "      <td>144.0</td>\n",
       "      <td>...</td>\n",
       "      <td>0</td>\n",
       "      <td>0</td>\n",
       "      <td>0</td>\n",
       "      <td>0</td>\n",
       "      <td>0</td>\n",
       "      <td>0</td>\n",
       "      <td>1</td>\n",
       "      <td>0</td>\n",
       "      <td>0</td>\n",
       "      <td>1</td>\n",
       "    </tr>\n",
       "    <tr>\n",
       "      <th>4274</th>\n",
       "      <td>9271_01</td>\n",
       "      <td>1</td>\n",
       "      <td>D/296/P</td>\n",
       "      <td>26.0</td>\n",
       "      <td>0</td>\n",
       "      <td>0.0</td>\n",
       "      <td>0.0</td>\n",
       "      <td>0.0</td>\n",
       "      <td>0.0</td>\n",
       "      <td>0.0</td>\n",
       "      <td>...</td>\n",
       "      <td>0</td>\n",
       "      <td>1</td>\n",
       "      <td>0</td>\n",
       "      <td>0</td>\n",
       "      <td>0</td>\n",
       "      <td>0</td>\n",
       "      <td>0</td>\n",
       "      <td>1</td>\n",
       "      <td>0</td>\n",
       "      <td>0</td>\n",
       "    </tr>\n",
       "    <tr>\n",
       "      <th>4275</th>\n",
       "      <td>9273_01</td>\n",
       "      <td>0</td>\n",
       "      <td>D/297/P</td>\n",
       "      <td>26.0</td>\n",
       "      <td>0</td>\n",
       "      <td>0.0</td>\n",
       "      <td>2680.0</td>\n",
       "      <td>0.0</td>\n",
       "      <td>0.0</td>\n",
       "      <td>523.0</td>\n",
       "      <td>...</td>\n",
       "      <td>0</td>\n",
       "      <td>1</td>\n",
       "      <td>0</td>\n",
       "      <td>0</td>\n",
       "      <td>0</td>\n",
       "      <td>0</td>\n",
       "      <td>0</td>\n",
       "      <td>1</td>\n",
       "      <td>0</td>\n",
       "      <td>0</td>\n",
       "    </tr>\n",
       "    <tr>\n",
       "      <th>4276</th>\n",
       "      <td>9277_01</td>\n",
       "      <td>1</td>\n",
       "      <td>G/1498/S</td>\n",
       "      <td>43.0</td>\n",
       "      <td>0</td>\n",
       "      <td>0.0</td>\n",
       "      <td>0.0</td>\n",
       "      <td>0.0</td>\n",
       "      <td>0.0</td>\n",
       "      <td>0.0</td>\n",
       "      <td>...</td>\n",
       "      <td>0</td>\n",
       "      <td>0</td>\n",
       "      <td>0</td>\n",
       "      <td>0</td>\n",
       "      <td>1</td>\n",
       "      <td>0</td>\n",
       "      <td>0</td>\n",
       "      <td>0</td>\n",
       "      <td>1</td>\n",
       "      <td>0</td>\n",
       "    </tr>\n",
       "  </tbody>\n",
       "</table>\n",
       "<p>4277 rows × 34 columns</p>\n",
       "</div>"
      ],
      "text/plain": [
       "     PassengerId  CryoSleep     Cabin   Age  VIP  RoomService  FoodCourt  \\\n",
       "0        0013_01          1     G/3/S  27.0    0          0.0        0.0   \n",
       "1        0018_01          0     F/4/S  19.0    0          0.0        9.0   \n",
       "2        0019_01          1     C/0/S  31.0    0          0.0        0.0   \n",
       "3        0021_01          0     C/1/S  38.0    0          0.0     6652.0   \n",
       "4        0023_01          0     F/5/S  20.0    0         10.0        0.0   \n",
       "...          ...        ...       ...   ...  ...          ...        ...   \n",
       "4272     9266_02          1  G/1496/S  34.0    0          0.0        0.0   \n",
       "4273     9269_01          0  Z/9999/Z  42.0    0          0.0      847.0   \n",
       "4274     9271_01          1   D/296/P  26.0    0          0.0        0.0   \n",
       "4275     9273_01          0   D/297/P  26.0    0          0.0     2680.0   \n",
       "4276     9277_01          1  G/1498/S  43.0    0          0.0        0.0   \n",
       "\n",
       "      ShoppingMall     Spa  VRDeck  ... CabinDeck_C  CabinDeck_D CabinDeck_E  \\\n",
       "0              0.0     0.0     0.0  ...           0            0           0   \n",
       "1              0.0  2823.0     0.0  ...           0            0           0   \n",
       "2              0.0     0.0     0.0  ...           1            0           0   \n",
       "3              0.0   181.0   585.0  ...           1            0           0   \n",
       "4            635.0     0.0     0.0  ...           0            0           0   \n",
       "...            ...     ...     ...  ...         ...          ...         ...   \n",
       "4272           0.0     0.0     0.0  ...           0            0           0   \n",
       "4273          17.0    10.0   144.0  ...           0            0           0   \n",
       "4274           0.0     0.0     0.0  ...           0            1           0   \n",
       "4275           0.0     0.0   523.0  ...           0            1           0   \n",
       "4276           0.0     0.0     0.0  ...           0            0           0   \n",
       "\n",
       "     CabinDeck_F CabinDeck_G  CabinDeck_T  CabinDeck_Z  CabinSide_P  \\\n",
       "0              0           1            0            0            0   \n",
       "1              1           0            0            0            0   \n",
       "2              0           0            0            0            0   \n",
       "3              0           0            0            0            0   \n",
       "4              1           0            0            0            0   \n",
       "...          ...         ...          ...          ...          ...   \n",
       "4272           0           1            0            0            0   \n",
       "4273           0           0            0            1            0   \n",
       "4274           0           0            0            0            1   \n",
       "4275           0           0            0            0            1   \n",
       "4276           0           1            0            0            0   \n",
       "\n",
       "      CabinSide_S  CabinSide_Z  \n",
       "0               1            0  \n",
       "1               1            0  \n",
       "2               1            0  \n",
       "3               1            0  \n",
       "4               1            0  \n",
       "...           ...          ...  \n",
       "4272            1            0  \n",
       "4273            0            1  \n",
       "4274            0            0  \n",
       "4275            0            0  \n",
       "4276            1            0  \n",
       "\n",
       "[4277 rows x 34 columns]"
      ]
     },
     "execution_count": 33,
     "metadata": {},
     "output_type": "execute_result"
    }
   ],
   "source": [
    "from sklearn.preprocessing import OneHotEncoder\n",
    "\n",
    "train = pd.get_dummies(train, columns = ['HomePlanet','Destination', 'CabinDeck', 'CabinSide'])\n",
    "train\n",
    "\n",
    "test = pd.get_dummies(test, columns = ['HomePlanet','Destination', 'CabinDeck', 'CabinSide'])\n",
    "test"
   ]
  },
  {
   "cell_type": "markdown",
   "id": "dde5dc38",
   "metadata": {
    "papermill": {
     "duration": 0.038632,
     "end_time": "2022-12-19T13:51:42.663259",
     "exception": false,
     "start_time": "2022-12-19T13:51:42.624627",
     "status": "completed"
    },
    "tags": []
   },
   "source": [
    "ใช้คำสั่ง `drop_col` เพื่อตัดข้อมูลที่ไม่ใช้ทิ้ง โดยในที่นี้ตัด `Cabin` `Name` `CabinNum` `Group` และ `PassengerId`"
   ]
  },
  {
   "cell_type": "code",
   "execution_count": 34,
   "id": "b4acf300",
   "metadata": {
    "execution": {
     "iopub.execute_input": "2022-12-19T13:51:42.743105Z",
     "iopub.status.busy": "2022-12-19T13:51:42.742608Z",
     "iopub.status.idle": "2022-12-19T13:51:42.757926Z",
     "shell.execute_reply": "2022-12-19T13:51:42.756545Z"
    },
    "papermill": {
     "duration": 0.059049,
     "end_time": "2022-12-19T13:51:42.761277",
     "exception": false,
     "start_time": "2022-12-19T13:51:42.702228",
     "status": "completed"
    },
    "tags": []
   },
   "outputs": [],
   "source": [
    "drop_col = ['Cabin', 'Name', 'CabinNum', 'Group', 'PassengerId']\n",
    "train = train.drop(columns = drop_col)\n",
    "test = test.drop(columns = drop_col)"
   ]
  },
  {
   "cell_type": "markdown",
   "id": "6bc7c8db",
   "metadata": {
    "papermill": {
     "duration": 0.03899,
     "end_time": "2022-12-19T13:51:42.840409",
     "exception": false,
     "start_time": "2022-12-19T13:51:42.801419",
     "status": "completed"
    },
    "tags": []
   },
   "source": [
    "#### แสดงข้อมูลที่อยู่ใน `train` และ `test` หลังใช้คำสั่ง `drop_col`"
   ]
  },
  {
   "cell_type": "code",
   "execution_count": 35,
   "id": "a844fbd1",
   "metadata": {
    "execution": {
     "iopub.execute_input": "2022-12-19T13:51:42.919565Z",
     "iopub.status.busy": "2022-12-19T13:51:42.919013Z",
     "iopub.status.idle": "2022-12-19T13:51:42.927547Z",
     "shell.execute_reply": "2022-12-19T13:51:42.926221Z"
    },
    "papermill": {
     "duration": 0.051999,
     "end_time": "2022-12-19T13:51:42.930548",
     "exception": false,
     "start_time": "2022-12-19T13:51:42.878549",
     "status": "completed"
    },
    "tags": []
   },
   "outputs": [
    {
     "data": {
      "text/plain": [
       "Index(['CryoSleep', 'Age', 'VIP', 'RoomService', 'FoodCourt', 'ShoppingMall',\n",
       "       'Spa', 'VRDeck', 'Transported', 'TotalSpent', 'GroupPos', 'AgeGroup',\n",
       "       'HomePlanet_Earth', 'HomePlanet_Europa', 'HomePlanet_Mars',\n",
       "       'Destination_55 Cancri e', 'Destination_PSO J318.5-22',\n",
       "       'Destination_TRAPPIST-1e', 'CabinDeck_A', 'CabinDeck_B', 'CabinDeck_C',\n",
       "       'CabinDeck_D', 'CabinDeck_E', 'CabinDeck_F', 'CabinDeck_G',\n",
       "       'CabinDeck_T', 'CabinDeck_Z', 'CabinSide_P', 'CabinSide_S',\n",
       "       'CabinSide_Z'],\n",
       "      dtype='object')"
      ]
     },
     "execution_count": 35,
     "metadata": {},
     "output_type": "execute_result"
    }
   ],
   "source": [
    "train.columns"
   ]
  },
  {
   "cell_type": "code",
   "execution_count": 36,
   "id": "082c2b6d",
   "metadata": {
    "execution": {
     "iopub.execute_input": "2022-12-19T13:51:43.015711Z",
     "iopub.status.busy": "2022-12-19T13:51:43.014621Z",
     "iopub.status.idle": "2022-12-19T13:51:43.023746Z",
     "shell.execute_reply": "2022-12-19T13:51:43.022476Z"
    },
    "papermill": {
     "duration": 0.054887,
     "end_time": "2022-12-19T13:51:43.026540",
     "exception": false,
     "start_time": "2022-12-19T13:51:42.971653",
     "status": "completed"
    },
    "tags": []
   },
   "outputs": [
    {
     "data": {
      "text/plain": [
       "Index(['CryoSleep', 'Age', 'VIP', 'RoomService', 'FoodCourt', 'ShoppingMall',\n",
       "       'Spa', 'VRDeck', 'TotalSpent', 'GroupPos', 'AgeGroup',\n",
       "       'HomePlanet_Earth', 'HomePlanet_Europa', 'HomePlanet_Mars',\n",
       "       'Destination_55 Cancri e', 'Destination_PSO J318.5-22',\n",
       "       'Destination_TRAPPIST-1e', 'CabinDeck_A', 'CabinDeck_B', 'CabinDeck_C',\n",
       "       'CabinDeck_D', 'CabinDeck_E', 'CabinDeck_F', 'CabinDeck_G',\n",
       "       'CabinDeck_T', 'CabinDeck_Z', 'CabinSide_P', 'CabinSide_S',\n",
       "       'CabinSide_Z'],\n",
       "      dtype='object')"
      ]
     },
     "execution_count": 36,
     "metadata": {},
     "output_type": "execute_result"
    }
   ],
   "source": [
    "test.columns"
   ]
  },
  {
   "cell_type": "markdown",
   "id": "3c9bbeb1",
   "metadata": {
    "papermill": {
     "duration": 0.04056,
     "end_time": "2022-12-19T13:51:43.108066",
     "exception": false,
     "start_time": "2022-12-19T13:51:43.067506",
     "status": "completed"
    },
    "tags": []
   },
   "source": [
    "สร้าง Array  `X` และ `y` โดยใส่ค่าจาก `Transported`"
   ]
  },
  {
   "cell_type": "code",
   "execution_count": 37,
   "id": "55f58db5",
   "metadata": {
    "execution": {
     "iopub.execute_input": "2022-12-19T13:51:43.193281Z",
     "iopub.status.busy": "2022-12-19T13:51:43.192294Z",
     "iopub.status.idle": "2022-12-19T13:51:43.209284Z",
     "shell.execute_reply": "2022-12-19T13:51:43.208122Z"
    },
    "papermill": {
     "duration": 0.063037,
     "end_time": "2022-12-19T13:51:43.212300",
     "exception": false,
     "start_time": "2022-12-19T13:51:43.149263",
     "status": "completed"
    },
    "tags": []
   },
   "outputs": [],
   "source": [
    "X = train.drop(columns = ['Transported']).values\n",
    "y = train['Transported'].values"
   ]
  },
  {
   "cell_type": "markdown",
   "id": "f3746d88",
   "metadata": {
    "papermill": {
     "duration": 0.038791,
     "end_time": "2022-12-19T13:51:43.290638",
     "exception": false,
     "start_time": "2022-12-19T13:51:43.251847",
     "status": "completed"
    },
    "tags": []
   },
   "source": [
    "แปลงค่าใน Array `GroupSize` ของทั้ง `train` และ `test` ให้เป็นค่า int โดยใช้คำสั่ง `.astype(int)`"
   ]
  },
  {
   "cell_type": "code",
   "execution_count": 38,
   "id": "acc9c8f7",
   "metadata": {
    "execution": {
     "iopub.execute_input": "2022-12-19T13:51:43.372936Z",
     "iopub.status.busy": "2022-12-19T13:51:43.372140Z",
     "iopub.status.idle": "2022-12-19T13:51:43.382351Z",
     "shell.execute_reply": "2022-12-19T13:51:43.381114Z"
    },
    "papermill": {
     "duration": 0.055447,
     "end_time": "2022-12-19T13:51:43.385445",
     "exception": false,
     "start_time": "2022-12-19T13:51:43.329998",
     "status": "completed"
    },
    "tags": []
   },
   "outputs": [],
   "source": [
    "train['GroupPos'] = train['GroupPos'].astype(int)\n",
    "test['GroupPos'] = test['GroupPos'].astype(int)"
   ]
  },
  {
   "cell_type": "markdown",
   "id": "e6b40ab1",
   "metadata": {
    "papermill": {
     "duration": 0.040628,
     "end_time": "2022-12-19T13:51:43.468032",
     "exception": false,
     "start_time": "2022-12-19T13:51:43.427404",
     "status": "completed"
    },
    "tags": []
   },
   "source": [
    "นำเข้าไลบรารี่ `LogisticRegression` `RandomForestClassifier` `GradientBoostingClassifier` `CatBoostClassifier` `SVC`"
   ]
  },
  {
   "cell_type": "code",
   "execution_count": 39,
   "id": "d26942c1",
   "metadata": {
    "execution": {
     "iopub.execute_input": "2022-12-19T13:51:43.552951Z",
     "iopub.status.busy": "2022-12-19T13:51:43.552009Z",
     "iopub.status.idle": "2022-12-19T13:51:45.203791Z",
     "shell.execute_reply": "2022-12-19T13:51:45.202439Z"
    },
    "papermill": {
     "duration": 1.698139,
     "end_time": "2022-12-19T13:51:45.207085",
     "exception": false,
     "start_time": "2022-12-19T13:51:43.508946",
     "status": "completed"
    },
    "tags": []
   },
   "outputs": [],
   "source": [
    "from sklearn.linear_model import LogisticRegression\n",
    "from sklearn.ensemble import RandomForestClassifier\n",
    "from sklearn.ensemble import GradientBoostingClassifier\n",
    "from catboost import CatBoostClassifier\n",
    "from sklearn.svm import SVC"
   ]
  },
  {
   "cell_type": "markdown",
   "id": "da25178e",
   "metadata": {
    "papermill": {
     "duration": 0.040588,
     "end_time": "2022-12-19T13:51:45.286298",
     "exception": false,
     "start_time": "2022-12-19T13:51:45.245710",
     "status": "completed"
    },
    "tags": []
   },
   "source": [
    "ใช้ `train_test_split` ในการแบ่ง data เป็น test data และ train data\n",
    "\n",
    "โดย `test_size=0.2` หมายถึงการแบ่งข้อมูลออกเป็น test data 20 ส่วน และ train data 80 ส่วน (เนื่องจากถ้าไม่ได้ใส่ train_size ตัวคำสั่งจะกำหนดค่าให้โดยอัตโนมัติ)\n",
    "\n",
    "และ `random_state` หมายถึงค่าในการ shuffle ข้อมูลก่อนที่จะทำการแบ่งข้อมูล [[5]](http://)"
   ]
  },
  {
   "cell_type": "code",
   "execution_count": 40,
   "id": "e3417084",
   "metadata": {
    "execution": {
     "iopub.execute_input": "2022-12-19T13:51:45.368967Z",
     "iopub.status.busy": "2022-12-19T13:51:45.367721Z",
     "iopub.status.idle": "2022-12-19T13:51:45.387385Z",
     "shell.execute_reply": "2022-12-19T13:51:45.385943Z"
    },
    "papermill": {
     "duration": 0.064623,
     "end_time": "2022-12-19T13:51:45.391058",
     "exception": false,
     "start_time": "2022-12-19T13:51:45.326435",
     "status": "completed"
    },
    "tags": []
   },
   "outputs": [
    {
     "data": {
      "text/plain": [
       "((6954, 29), (6954,), (1739, 29), (1739,))"
      ]
     },
     "execution_count": 40,
     "metadata": {},
     "output_type": "execute_result"
    }
   ],
   "source": [
    "from sklearn.model_selection import train_test_split\n",
    "X_train, X_test, y_train, y_test = train_test_split(X, y, test_size=0.2, random_state=101)\n",
    "\n",
    "X_train.shape,y_train.shape, X_test.shape, y_test.shape"
   ]
  },
  {
   "attachments": {
    "ecc25885-4b3c-4049-a7e6-7605fc9088e4.png": {
     "image/png": "[encoded data removed]"
    }
   },
   "cell_type": "markdown",
   "id": "2aed0a0f",
   "metadata": {
    "papermill": {
     "duration": 0.04329,
     "end_time": "2022-12-19T13:51:45.478075",
     "exception": false,
     "start_time": "2022-12-19T13:51:45.434785",
     "status": "completed"
    },
    "tags": []
   },
   "source": [
    "### **Logistic Regression**\n",
    "\n",
    "คือการทำ Classification โดย output ตอนแรกออกมาเป็น Regression (จำนวนตัวเลข) จากนั้นนำไป mapping กับ Sigmoid function จะได้ว่าข้อมูลนี้เป็นคลาสนี้หรือไม่เป็น\n",
    "\n",
    "![image.png](attachment:ecc25885-4b3c-4049-a7e6-7605fc9088e4.png)\n",
    "\n",
    "**แกน X คือ ค่า Regression** ที่ทายออกมาได้\n",
    "**แกน Y คือ ค่าความน่าจะเป็น**ที่จะเป็น Class นั้นๆ อยู่ในช่วง 0–1\n",
    "\n",
    "ถ้า output ของเราทายออกมาได้ 0\n",
    "เราเอา Output มาเทียบกับกราฟในรูปก็จะได้แกน Y เป็น 0.5\n",
    "\n",
    "ถ้าความน่าจะเป็นอยู่ในช่วง 0.0–0.49 หมายความว่าไม่เป็นคลาสนั้น ❌\n",
    "ถ้าความน่าจะเป็นอยู่ในช่วง 0.49–1.00 หมายความว่าเป็นคลาสนั้น ✔️"
   ]
  },
  {
   "cell_type": "code",
   "execution_count": 41,
   "id": "8b2fe720",
   "metadata": {
    "execution": {
     "iopub.execute_input": "2022-12-19T13:51:45.564755Z",
     "iopub.status.busy": "2022-12-19T13:51:45.563732Z",
     "iopub.status.idle": "2022-12-19T13:51:45.799839Z",
     "shell.execute_reply": "2022-12-19T13:51:45.798005Z"
    },
    "papermill": {
     "duration": 0.286577,
     "end_time": "2022-12-19T13:51:45.808746",
     "exception": false,
     "start_time": "2022-12-19T13:51:45.522169",
     "status": "completed"
    },
    "tags": []
   },
   "outputs": [
    {
     "name": "stderr",
     "output_type": "stream",
     "text": [
      "/opt/conda/lib/python3.7/site-packages/sklearn/linear_model/_logistic.py:818: ConvergenceWarning: lbfgs failed to converge (status=1):\n",
      "STOP: TOTAL NO. of ITERATIONS REACHED LIMIT.\n",
      "\n",
      "Increase the number of iterations (max_iter) or scale the data as shown in:\n",
      "    https://scikit-learn.org/stable/modules/preprocessing.html\n",
      "Please also refer to the documentation for alternative solver options:\n",
      "    https://scikit-learn.org/stable/modules/linear_model.html#logistic-regression\n",
      "  extra_warning_msg=_LOGISTIC_SOLVER_CONVERGENCE_MSG,\n"
     ]
    }
   ],
   "source": [
    "lg = LogisticRegression()\n",
    "lg.fit(X_train,y_train)\n",
    "lg_pred_score = lg.score(X_test,y_test)"
   ]
  },
  {
   "attachments": {
    "7e156443-db5f-4dc3-a697-4b336aca8775.png": {
     "image/png": "[encoded data removed]"
    }
   },
   "cell_type": "markdown",
   "id": "07827695",
   "metadata": {
    "papermill": {
     "duration": 0.04245,
     "end_time": "2022-12-19T13:51:45.951773",
     "exception": false,
     "start_time": "2022-12-19T13:51:45.909323",
     "status": "completed"
    },
    "tags": []
   },
   "source": [
    "### **Random Forest Classifier**\n",
    "![image.png](attachment:7e156443-db5f-4dc3-a697-4b336aca8775.png)\n",
    "\n",
    "หลักการของ Random Forest คือการสร้าง model จาก Decision Tree หลายๆ model (ตั้งแต่ 10 model ถึง มากกว่า 1000 model)\n",
    "\n",
    "โดยแต่ละ model จะได้รับ data set ไม่เหมือนกัน ซึ่งเป็น subset ของ data set ทั้งหมด ตอนทำ prediction ก็ให้แต่ละ Decision Tree ทำ prediction ของใครของมัน\n",
    "\n",
    "โดยคำนวณผล prediction ด้วยการ vote output ที่ถูกเลือกโดย Decision Tree มากที่สุด (กรณี classification) หรือ หาค่า mean จาก output ของแต่ละ Decision Tree (กรณี regression)"
   ]
  },
  {
   "cell_type": "code",
   "execution_count": 42,
   "id": "fbca48b4",
   "metadata": {
    "execution": {
     "iopub.execute_input": "2022-12-19T13:51:46.034151Z",
     "iopub.status.busy": "2022-12-19T13:51:46.033581Z",
     "iopub.status.idle": "2022-12-19T13:51:47.107031Z",
     "shell.execute_reply": "2022-12-19T13:51:47.105675Z"
    },
    "papermill": {
     "duration": 1.118453,
     "end_time": "2022-12-19T13:51:47.110275",
     "exception": false,
     "start_time": "2022-12-19T13:51:45.991822",
     "status": "completed"
    },
    "tags": []
   },
   "outputs": [],
   "source": [
    "rf = RandomForestClassifier()\n",
    "rf.fit(X_train,y_train)\n",
    "rf_pred_score = rf.score(X_test,y_test)"
   ]
  },
  {
   "attachments": {
    "d70263ef-7abc-4a1d-8cdb-db2f15c5e7ad.png": {
     "image/png": "[encoded data removed]"
    }
   },
   "cell_type": "markdown",
   "id": "2322617e",
   "metadata": {
    "papermill": {
     "duration": 0.039546,
     "end_time": "2022-12-19T13:51:47.188808",
     "exception": false,
     "start_time": "2022-12-19T13:51:47.149262",
     "status": "completed"
    },
    "tags": []
   },
   "source": [
    "### **Gradient Boosting Classifier**\n",
    "\n",
    "![image.png](attachment:d70263ef-7abc-4a1d-8cdb-db2f15c5e7ad.png)\n",
    "\n",
    "Gradient Boosting เป็น model ที่นำเอา Decision Tree มา train ต่อๆ กันหลายๆ tree โดยที่แต่ละ decision tree จะเรียนรู้จาก error ของ tree ก่อนหน้า\n",
    "\n",
    "ทำให้ความแม่นยำของในการทำ prediction จะแม่นยำมากขึ้นเรื่อยๆ เมื่อมีการเรียนรู้ของ tree ต่อเนื่องกันจนมีความลึกมากพอ\n",
    "model จะหยุดเรียนรู้เมื่อไม่เหลือ pattern ของ error จาก tree ก่อนหน้าให้เรียนรู้แล้ว"
   ]
  },
  {
   "cell_type": "code",
   "execution_count": 43,
   "id": "3915e7e5",
   "metadata": {
    "execution": {
     "iopub.execute_input": "2022-12-19T13:51:47.270133Z",
     "iopub.status.busy": "2022-12-19T13:51:47.269354Z",
     "iopub.status.idle": "2022-12-19T13:51:48.457049Z",
     "shell.execute_reply": "2022-12-19T13:51:48.455678Z"
    },
    "papermill": {
     "duration": 1.232241,
     "end_time": "2022-12-19T13:51:48.460199",
     "exception": false,
     "start_time": "2022-12-19T13:51:47.227958",
     "status": "completed"
    },
    "tags": []
   },
   "outputs": [],
   "source": [
    "gb = GradientBoostingClassifier()\n",
    "gb.fit(X_train,y_train)\n",
    "gb_pred_score = gb.score(X_test,y_test)"
   ]
  },
  {
   "attachments": {
    "9f80863b-15dd-46d6-8da7-313ab4524d6d.png": {
     "image/png": "[encoded data removed]"
    }
   },
   "cell_type": "markdown",
   "id": "4712895a",
   "metadata": {
    "papermill": {
     "duration": 0.038626,
     "end_time": "2022-12-19T13:51:48.538001",
     "exception": false,
     "start_time": "2022-12-19T13:51:48.499375",
     "status": "completed"
    },
    "tags": []
   },
   "source": [
    "### **Support Vector Machines (SVM)**\n",
    "\n",
    "เหมาะกับ dataset ที่มีฟีเจอร์เยอะๆ และมีขนาดข้อมูลเล็กถึงปานกลาง หลักการพื้นฐานคือพยายามหาเส้นแบ่งระหว่างคลาสต่างๆในข้อมูล \n",
    "\n",
    "![image.png](attachment:9f80863b-15dd-46d6-8da7-313ab4524d6d.png)\n",
    "\n",
    "ในตอนที่หาเส้นแบ่งในแต่ละคลาสจะมีหลักการคือพยายามแยก 2 คลาสให้ออกจากกันโดนการลากเส้นตรงกลาง คือเส้น C\n",
    "\n",
    "แล้วลากเส้นคู่ขนานคือเส้น A,B อะไรก็ตามที่อยู่หลังเส้น A จะเป็นคลาสสีแดง อะไรก็ตามที่อยู่หลังเส้น B จะเป็นคลาสสีฟ้านั้นเอง"
   ]
  },
  {
   "cell_type": "code",
   "execution_count": 44,
   "id": "e82fb00d",
   "metadata": {
    "execution": {
     "iopub.execute_input": "2022-12-19T13:51:48.618750Z",
     "iopub.status.busy": "2022-12-19T13:51:48.618215Z",
     "iopub.status.idle": "2022-12-19T13:51:51.416720Z",
     "shell.execute_reply": "2022-12-19T13:51:51.415282Z"
    },
    "papermill": {
     "duration": 2.842321,
     "end_time": "2022-12-19T13:51:51.419989",
     "exception": false,
     "start_time": "2022-12-19T13:51:48.577668",
     "status": "completed"
    },
    "tags": []
   },
   "outputs": [],
   "source": [
    "svc = SVC()\n",
    "svc.fit(X_train,y_train)\n",
    "svc_pred_score = svc.score(X_test,y_test)"
   ]
  },
  {
   "attachments": {
    "67a38367-43fc-4368-8429-4c68c5d9c952.png": {
     "image/png": "[encoded data removed]"
    }
   },
   "cell_type": "markdown",
   "id": "3344cf7a",
   "metadata": {
    "papermill": {
     "duration": 0.041932,
     "end_time": "2022-12-19T13:51:51.502707",
     "exception": false,
     "start_time": "2022-12-19T13:51:51.460775",
     "status": "completed"
    },
    "tags": []
   },
   "source": [
    "### **CatBoost**\n",
    "![image.png](attachment:67a38367-43fc-4368-8429-4c68c5d9c952.png)\n",
    "\n",
    "มาจากคำว่า “Category” และ “Boosting” เป็นวิธี Gradient Boosting ชนิดหนึ่ง\n",
    "\n",
    "ซึ่งถูกพัฒนาเพื่อจัดการกับข้อมูลจำพวกตัวแปรประเภทและเพิ่มประสิทธิภาพการทำงานในแบบจำลองสามารถทำนายได้รวดเร็ว\n",
    "โดยสามารถจัดการกับตัวแปรโดยอัตโนมัติและไม่ต้องการการแปลงชุดข้อมูลให้เป็นรูปแบบเฉพาะ\n",
    "\n",
    "CatBoost จะสร้าง model y โดยขึ้นอยู่กับ set ของ features x ด้วยวิธีที่สามารถแก้ปัญหาได้ดีที่สุด (regression, classification, multiclassification)\n",
    "\n",
    "CatBoost ใช้วิธีอิงจาก Gradient Boosted Decision trees ในขณะที่ทำการ train ข้อมูลอยู่ กลุ่มของ decision trees จะถูกสร้างในขณะเดียวกัน\n",
    "\n",
    "โดยทุกๆ tree ที่ถูกสร้างขึ้นด้วยค่าความสูญเสียที่ลดลงเมื่อเทียบกับ tree ก่อนหน้า"
   ]
  },
  {
   "cell_type": "code",
   "execution_count": 45,
   "id": "6e76412f",
   "metadata": {
    "execution": {
     "iopub.execute_input": "2022-12-19T13:51:51.583188Z",
     "iopub.status.busy": "2022-12-19T13:51:51.582661Z",
     "iopub.status.idle": "2022-12-19T13:51:56.279420Z",
     "shell.execute_reply": "2022-12-19T13:51:56.278195Z"
    },
    "papermill": {
     "duration": 4.74107,
     "end_time": "2022-12-19T13:51:56.282777",
     "exception": false,
     "start_time": "2022-12-19T13:51:51.541707",
     "status": "completed"
    },
    "tags": []
   },
   "outputs": [],
   "source": [
    "cb = CatBoostClassifier(verbose=False)\n",
    "cb.fit(X_train, y_train)\n",
    "cb_pred_score = cb.score(X_test,y_test)"
   ]
  },
  {
   "cell_type": "markdown",
   "id": "cc514e0e",
   "metadata": {
    "papermill": {
     "duration": 0.038465,
     "end_time": "2022-12-19T13:51:56.360580",
     "exception": false,
     "start_time": "2022-12-19T13:51:56.322115",
     "status": "completed"
    },
    "tags": []
   },
   "source": [
    "แสดงค่า Accuracy ของแต่ละ Model โดยเราจะเลือก Model ที่ให้ค่า Accuracy มากที่สุด"
   ]
  },
  {
   "cell_type": "code",
   "execution_count": 46,
   "id": "554dd3b2",
   "metadata": {
    "execution": {
     "iopub.execute_input": "2022-12-19T13:51:56.440832Z",
     "iopub.status.busy": "2022-12-19T13:51:56.440275Z",
     "iopub.status.idle": "2022-12-19T13:51:56.454795Z",
     "shell.execute_reply": "2022-12-19T13:51:56.453466Z"
    },
    "papermill": {
     "duration": 0.057894,
     "end_time": "2022-12-19T13:51:56.457377",
     "exception": false,
     "start_time": "2022-12-19T13:51:56.399483",
     "status": "completed"
    },
    "tags": []
   },
   "outputs": [
    {
     "data": {
      "text/html": [
       "<div>\n",
       "<style scoped>\n",
       "    .dataframe tbody tr th:only-of-type {\n",
       "        vertical-align: middle;\n",
       "    }\n",
       "\n",
       "    .dataframe tbody tr th {\n",
       "        vertical-align: top;\n",
       "    }\n",
       "\n",
       "    .dataframe thead th {\n",
       "        text-align: right;\n",
       "    }\n",
       "</style>\n",
       "<table border=\"1\" class=\"dataframe\">\n",
       "  <thead>\n",
       "    <tr style=\"text-align: right;\">\n",
       "      <th></th>\n",
       "      <th>model</th>\n",
       "      <th>accuracy</th>\n",
       "    </tr>\n",
       "  </thead>\n",
       "  <tbody>\n",
       "    <tr>\n",
       "      <th>0</th>\n",
       "      <td>Logistic Regression</td>\n",
       "      <td>0.799885</td>\n",
       "    </tr>\n",
       "    <tr>\n",
       "      <th>1</th>\n",
       "      <td>Random Forest</td>\n",
       "      <td>0.801035</td>\n",
       "    </tr>\n",
       "    <tr>\n",
       "      <th>2</th>\n",
       "      <td>Gradient Boosting</td>\n",
       "      <td>0.801610</td>\n",
       "    </tr>\n",
       "    <tr>\n",
       "      <th>3</th>\n",
       "      <td>SVM</td>\n",
       "      <td>0.794710</td>\n",
       "    </tr>\n",
       "    <tr>\n",
       "      <th>4</th>\n",
       "      <td>Catboost</td>\n",
       "      <td>0.820587</td>\n",
       "    </tr>\n",
       "  </tbody>\n",
       "</table>\n",
       "</div>"
      ],
      "text/plain": [
       "                 model  accuracy\n",
       "0  Logistic Regression  0.799885\n",
       "1        Random Forest  0.801035\n",
       "2    Gradient Boosting  0.801610\n",
       "3                  SVM  0.794710\n",
       "4             Catboost  0.820587"
      ]
     },
     "execution_count": 46,
     "metadata": {},
     "output_type": "execute_result"
    }
   ],
   "source": [
    "df = pd.DataFrame(dict(model=['Logistic Regression', \n",
    "                              'Random Forest', \n",
    "                              'Gradient Boosting',\n",
    "                              'SVM',\n",
    "                              'Catboost'],accuracy=[lg_pred_score, rf_pred_score, \n",
    "                                               gb_pred_score, svc_pred_score,\n",
    "                                                cb_pred_score]))\n",
    "df"
   ]
  },
  {
   "cell_type": "markdown",
   "id": "89e09000",
   "metadata": {
    "papermill": {
     "duration": 0.038311,
     "end_time": "2022-12-19T13:51:56.535078",
     "exception": false,
     "start_time": "2022-12-19T13:51:56.496767",
     "status": "completed"
    },
    "tags": []
   },
   "source": [
    "ทำการดรอป `Transported` ทึ้งก่อนจะนำไปเข้าโมเดล "
   ]
  },
  {
   "cell_type": "code",
   "execution_count": 47,
   "id": "21797c0d",
   "metadata": {
    "execution": {
     "iopub.execute_input": "2022-12-19T13:51:56.615649Z",
     "iopub.status.busy": "2022-12-19T13:51:56.615175Z",
     "iopub.status.idle": "2022-12-19T13:51:56.626382Z",
     "shell.execute_reply": "2022-12-19T13:51:56.625287Z"
    },
    "papermill": {
     "duration": 0.055613,
     "end_time": "2022-12-19T13:51:56.629359",
     "exception": false,
     "start_time": "2022-12-19T13:51:56.573746",
     "status": "completed"
    },
    "tags": []
   },
   "outputs": [],
   "source": [
    "X_train = train.drop('Transported', axis=1)\n",
    "y_train = train['Transported']\n",
    "X_test = test.copy()"
   ]
  },
  {
   "cell_type": "markdown",
   "id": "a9d8728e",
   "metadata": {
    "papermill": {
     "duration": 0.039271,
     "end_time": "2022-12-19T13:51:56.707615",
     "exception": false,
     "start_time": "2022-12-19T13:51:56.668344",
     "status": "completed"
    },
    "tags": []
   },
   "source": [
    "**โดยในที่นี้เราเลือกที่จะใช้ CatBoost เป็น Model ของเรา**"
   ]
  },
  {
   "cell_type": "code",
   "execution_count": 48,
   "id": "19c4f128",
   "metadata": {
    "execution": {
     "iopub.execute_input": "2022-12-19T13:51:56.788154Z",
     "iopub.status.busy": "2022-12-19T13:51:56.787669Z",
     "iopub.status.idle": "2022-12-19T13:52:01.876832Z",
     "shell.execute_reply": "2022-12-19T13:52:01.875583Z"
    },
    "papermill": {
     "duration": 5.133127,
     "end_time": "2022-12-19T13:52:01.879838",
     "exception": false,
     "start_time": "2022-12-19T13:51:56.746711",
     "status": "completed"
    },
    "tags": []
   },
   "outputs": [],
   "source": [
    "model = CatBoostClassifier(verbose=False)\n",
    "model.fit(X_train,y_train)\n",
    "pred = model.predict(X_test)"
   ]
  },
  {
   "cell_type": "markdown",
   "id": "a6f91f72",
   "metadata": {
    "papermill": {
     "duration": 0.039023,
     "end_time": "2022-12-19T13:52:01.958671",
     "exception": false,
     "start_time": "2022-12-19T13:52:01.919648",
     "status": "completed"
    },
    "tags": []
   },
   "source": [
    "ทำการอ่าน output ที่ได้จากโมเดล"
   ]
  },
  {
   "cell_type": "code",
   "execution_count": 49,
   "id": "8e367af3",
   "metadata": {
    "execution": {
     "iopub.execute_input": "2022-12-19T13:52:02.038775Z",
     "iopub.status.busy": "2022-12-19T13:52:02.038253Z",
     "iopub.status.idle": "2022-12-19T13:52:02.062803Z",
     "shell.execute_reply": "2022-12-19T13:52:02.061212Z"
    },
    "papermill": {
     "duration": 0.068305,
     "end_time": "2022-12-19T13:52:02.066134",
     "exception": false,
     "start_time": "2022-12-19T13:52:01.997829",
     "status": "completed"
    },
    "tags": []
   },
   "outputs": [],
   "source": [
    "submission = pd.read_csv('../input/spaceship-titanic/sample_submission.csv')\n",
    "submission['Transported']=pred.astype(bool)\n",
    "submission.to_csv('./submission.csv',index=False)"
   ]
  },
  {
   "cell_type": "code",
   "execution_count": 50,
   "id": "38c66b62",
   "metadata": {
    "execution": {
     "iopub.execute_input": "2022-12-19T13:52:02.146560Z",
     "iopub.status.busy": "2022-12-19T13:52:02.146107Z",
     "iopub.status.idle": "2022-12-19T13:52:02.159689Z",
     "shell.execute_reply": "2022-12-19T13:52:02.158388Z"
    },
    "papermill": {
     "duration": 0.056377,
     "end_time": "2022-12-19T13:52:02.162345",
     "exception": false,
     "start_time": "2022-12-19T13:52:02.105968",
     "status": "completed"
    },
    "tags": []
   },
   "outputs": [
    {
     "data": {
      "text/html": [
       "<div>\n",
       "<style scoped>\n",
       "    .dataframe tbody tr th:only-of-type {\n",
       "        vertical-align: middle;\n",
       "    }\n",
       "\n",
       "    .dataframe tbody tr th {\n",
       "        vertical-align: top;\n",
       "    }\n",
       "\n",
       "    .dataframe thead th {\n",
       "        text-align: right;\n",
       "    }\n",
       "</style>\n",
       "<table border=\"1\" class=\"dataframe\">\n",
       "  <thead>\n",
       "    <tr style=\"text-align: right;\">\n",
       "      <th></th>\n",
       "      <th>PassengerId</th>\n",
       "      <th>Transported</th>\n",
       "    </tr>\n",
       "  </thead>\n",
       "  <tbody>\n",
       "    <tr>\n",
       "      <th>0</th>\n",
       "      <td>0013_01</td>\n",
       "      <td>True</td>\n",
       "    </tr>\n",
       "    <tr>\n",
       "      <th>1</th>\n",
       "      <td>0018_01</td>\n",
       "      <td>False</td>\n",
       "    </tr>\n",
       "    <tr>\n",
       "      <th>2</th>\n",
       "      <td>0019_01</td>\n",
       "      <td>True</td>\n",
       "    </tr>\n",
       "    <tr>\n",
       "      <th>3</th>\n",
       "      <td>0021_01</td>\n",
       "      <td>True</td>\n",
       "    </tr>\n",
       "    <tr>\n",
       "      <th>4</th>\n",
       "      <td>0023_01</td>\n",
       "      <td>True</td>\n",
       "    </tr>\n",
       "    <tr>\n",
       "      <th>...</th>\n",
       "      <td>...</td>\n",
       "      <td>...</td>\n",
       "    </tr>\n",
       "    <tr>\n",
       "      <th>4272</th>\n",
       "      <td>9266_02</td>\n",
       "      <td>True</td>\n",
       "    </tr>\n",
       "    <tr>\n",
       "      <th>4273</th>\n",
       "      <td>9269_01</td>\n",
       "      <td>False</td>\n",
       "    </tr>\n",
       "    <tr>\n",
       "      <th>4274</th>\n",
       "      <td>9271_01</td>\n",
       "      <td>True</td>\n",
       "    </tr>\n",
       "    <tr>\n",
       "      <th>4275</th>\n",
       "      <td>9273_01</td>\n",
       "      <td>True</td>\n",
       "    </tr>\n",
       "    <tr>\n",
       "      <th>4276</th>\n",
       "      <td>9277_01</td>\n",
       "      <td>True</td>\n",
       "    </tr>\n",
       "  </tbody>\n",
       "</table>\n",
       "<p>4277 rows × 2 columns</p>\n",
       "</div>"
      ],
      "text/plain": [
       "     PassengerId  Transported\n",
       "0        0013_01         True\n",
       "1        0018_01        False\n",
       "2        0019_01         True\n",
       "3        0021_01         True\n",
       "4        0023_01         True\n",
       "...          ...          ...\n",
       "4272     9266_02         True\n",
       "4273     9269_01        False\n",
       "4274     9271_01         True\n",
       "4275     9273_01         True\n",
       "4276     9277_01         True\n",
       "\n",
       "[4277 rows x 2 columns]"
      ]
     },
     "execution_count": 50,
     "metadata": {},
     "output_type": "execute_result"
    }
   ],
   "source": [
    "submission"
   ]
  },
  {
   "cell_type": "markdown",
   "id": "782f2ba2",
   "metadata": {
    "papermill": {
     "duration": 0.038749,
     "end_time": "2022-12-19T13:52:02.239784",
     "exception": false,
     "start_time": "2022-12-19T13:52:02.201035",
     "status": "completed"
    },
    "tags": []
   },
   "source": [
    "# Members"
   ]
  },
  {
   "cell_type": "markdown",
   "id": "a68bb583",
   "metadata": {
    "papermill": {
     "duration": 0.038012,
     "end_time": "2022-12-19T13:52:02.316666",
     "exception": false,
     "start_time": "2022-12-19T13:52:02.278654",
     "status": "completed"
    },
    "tags": []
   },
   "source": [
    "น.ส.รดา ดารากร ณ อยุธยา 6309658570      \n",
    "น.ส.จศิตา สุขเกษม 6309658695                  \n",
    "นายอภิภู เตชะอาภรณ์ชัย 6309658968        \n",
    "นายณัฐภัทร ทันอินทรอาจ 6309659008               \n",
    "นายภูธเนศ คูศิริรัตน์ 6309659073                  \n",
    "นายวาริศ ดงพระจันทร์ 6309659180"
   ]
  },
  {
   "cell_type": "markdown",
   "id": "ca2f4709",
   "metadata": {
    "papermill": {
     "duration": 0.0385,
     "end_time": "2022-12-19T13:52:02.393954",
     "exception": false,
     "start_time": "2022-12-19T13:52:02.355454",
     "status": "completed"
    },
    "tags": []
   },
   "source": [
    "# Reference"
   ]
  },
  {
   "cell_type": "markdown",
   "id": "6e78e71f",
   "metadata": {
    "papermill": {
     "duration": 0.038299,
     "end_time": "2022-12-19T13:52:02.471244",
     "exception": false,
     "start_time": "2022-12-19T13:52:02.432945",
     "status": "completed"
    },
    "tags": []
   },
   "source": [
    "**Kaggle Guide**\n",
    "* https://www.kaggle.com/code/samuelcortinhas/spaceship-titanic-a-complete-guide\n",
    "\n",
    "**EDA, DP, FE**\n",
    "* https://medium.com/@ndleah/eda-data-preprocessing-feature-engineering-we-are-different-d2a5fa09f527\n",
    "* https://www.kaggle.com/code/max1mum/blasted-wormholes-detailed-eda-and-models\n",
    "\n",
    "**Data Modeling**\n",
    "\n",
    "int vs astypeint\n",
    "* https://stackoverflow.com/questions/50302732/int-vs-astypeint-python\n",
    "\n",
    "train test split\n",
    "* https://www.sharpsightlabs.com/blog/scikit-train_test_split/\n",
    "\n",
    "**Logistic Regression**\n",
    "* https://medium.com/mmp-li/logistic-regression-ไม่มีอะไรเป็นไปตามอย่างที่คิดเสมอ-machine-learning-101-bba2f666234d\n",
    "* https://scikit-learn.org/stable/modules/generated/sklearn.linear_model.LogisticRegression.html\n",
    "\n",
    "**Random Forest Classifier**\n",
    "* https://scikit-learn.org/stable/modules/generated/sklearn.ensemble.RandomForestClassifier.html\n",
    "* https://medium.com/@witchapongdaroontham/เจาะลึก-random-forest-part-2-of-รู้จัก-decision-tree-random-forest-และ-xgboost-79b9f41a1c1c\n",
    "\n",
    "**Gradient Boosting**\n",
    "* https://medium.com/@witchapongdaroontham/รู้จัก-decision-tree-random-forrest-และ-xgboost-part-1-cb49c4ac1315\n",
    "* https://scikit-learn.org/stable/modules/generated/sklearn.ensemble.GradientBoostingClassifier.html?highlight=gradient+boost#sklearn.ensemble.GradientBoostingClassifier\n",
    "\n",
    "**SVM**\n",
    "* https://scikit-learn.org/stable/modules/classes.html?highlight=svm#module-sklearn.svm\n",
    "* https://medium.com/mmp-li/svm-อดีตเคยหวานปัจจุบันแอบเซง-machine-learning-101-6008753c780c\n",
    "\n",
    "**CatBoost**\n",
    "* https://catboost.ai/\n",
    "* https://msds.science.swu.ac.th/wp-content/uploads/2022/04/4_63199130122_Sakulkran-Thongkham_37_48.pdf\n",
    "* https://catboost.ai/en/docs/concepts/algorithm-main-stages\n",
    "\n",
    "\n",
    "\n",
    "\n"
   ]
  }
 ],
 "metadata": {
  "kernelspec": {
   "display_name": "Python 3",
   "language": "python",
   "name": "python3"
  },
  "language_info": {
   "codemirror_mode": {
    "name": "ipython",
    "version": 3
   },
   "file_extension": ".py",
   "mimetype": "text/x-python",
   "name": "python",
   "nbconvert_exporter": "python",
   "pygments_lexer": "ipython3",
   "version": "3.7.12"
  },
  "papermill": {
   "default_parameters": {},
   "duration": 235.484535,
   "end_time": "2022-12-19T13:52:05.592678",
   "environment_variables": {},
   "exception": null,
   "input_path": "__notebook__.ipynb",
   "output_path": "__notebook__.ipynb",
   "parameters": {},
   "start_time": "2022-12-19T13:48:10.108143",
   "version": "2.3.4"
  }
 },
 "nbformat": 4,
 "nbformat_minor": 5
}
